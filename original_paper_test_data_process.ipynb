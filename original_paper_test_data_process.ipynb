{
 "cells": [
  {
   "cell_type": "code",
   "execution_count": 1,
   "metadata": {
    "ExecuteTime": {
     "end_time": "2019-06-26T20:08:16.779248Z",
     "start_time": "2019-06-26T20:08:15.921920Z"
    }
   },
   "outputs": [],
   "source": [
    "import glob\n",
    "import numpy\n",
    "import pandas\n",
    "import itertools\n",
    "from xml.dom import minidom\n",
    "from nltk.tokenize import sent_tokenize, word_tokenize\n",
    "from nltk.stem.snowball import SnowballStemmer\n",
    "from collections import Counter\n",
    "\n",
    "def get_annotation(element, indicator):\n",
    "    if element.tagName == 'SMOKER' or element.tagName == 'FAMILY_HIST':\n",
    "        return (element.tagName.lower() + '.' + \n",
    "                element.getAttribute(indicator).lower().strip().replace(' ', '_'))\n",
    "    else:\n",
    "        return (element.tagName.lower() + '.' + \n",
    "                element.getAttribute(indicator).lower().strip().replace(' ', '_'),  \n",
    "                element.getAttribute('time').lower().strip().replace(' ', '_'))\n",
    "    \n",
    "def combine_annotations(annotations):\n",
    "    results = list()\n",
    "    for annotation in annotations:\n",
    "        if len(annotation) == 2:\n",
    "            if ((annotation[0], 'before_dct') in annotations and \n",
    "                (annotation[0], 'during_dct') in annotations and \n",
    "                (annotation[0], 'after_dct') in annotations):\n",
    "                 results.append((annotation[0] + '.continuing'))\n",
    "            else:\n",
    "                results.append((annotation[0] + '.' + annotation[1]))\n",
    "        else:\n",
    "            results.append(annotation)\n",
    "    return list(set(results))\n",
    "\n",
    "def write_text(filename, data):\n",
    "    file = open(filename, 'w')\n",
    "    for i in range(0, len(data)):\n",
    "        file.write(','.join(str(x) for x in data[i]) + '\\n')\n",
    "    file.close()\n",
    "\n",
    "def write_annotations(filename, data):\n",
    "    file = open(filename, 'w')\n",
    "    if len(data) == 0:\n",
    "        file.write('0')\n",
    "    else:\n",
    "        file.write(','.join(str(x) for x in data))\n",
    "    file.close()\n",
    "\n",
    "def write_to_file(filename, text, labels):\n",
    "    file = open(filename, 'w')\n",
    "    for i in range(0, len(text)):\n",
    "        file.write(','.join(str(x) for x in text[i]) + '\\n')\n",
    "    if len(labels) == 0:\n",
    "        file.write('0')\n",
    "    else:\n",
    "        file.write(','.join(str(x) for x in labels))\n",
    "    file.close()"
   ]
  },
  {
   "cell_type": "code",
   "execution_count": 2,
   "metadata": {
    "ExecuteTime": {
     "end_time": "2019-06-26T20:12:07.851389Z",
     "start_time": "2019-06-26T20:12:07.841027Z"
    }
   },
   "outputs": [],
   "source": [
    "tagnames = ['CAD', 'DIABETES', 'FAMILY_HIST', 'HYPERLIPIDEMIA', 'HYPERTENSION', 'MEDICATION', 'OBESE', 'SMOKER']\n",
    "folder = '/host_home/data/i2b2/2014/testing/testing-RiskFactors-Complete'\n",
    "files = glob.glob(folder+'/*.xml')"
   ]
  },
  {
   "cell_type": "code",
   "execution_count": 7,
   "metadata": {
    "ExecuteTime": {
     "end_time": "2019-06-26T20:14:13.031526Z",
     "start_time": "2019-06-26T20:14:13.024107Z"
    }
   },
   "outputs": [
    {
     "data": {
      "text/plain": [
       "'/host_home/data/i2b2/2014/testing/testing-RiskFactors-Complete/119-02.xml'"
      ]
     },
     "execution_count": 7,
     "metadata": {},
     "output_type": "execute_result"
    }
   ],
   "source": [
    "files[39]"
   ]
  },
  {
   "cell_type": "code",
   "execution_count": 11,
   "metadata": {
    "ExecuteTime": {
     "end_time": "2019-06-26T20:15:36.649313Z",
     "start_time": "2019-06-26T20:15:36.626078Z"
    }
   },
   "outputs": [],
   "source": [
    "for file in [files[39]]:\n",
    "\n",
    "    root = minidom.parse(file)\n",
    "    annotation_objects = [root.getElementsByTagName(x) for x in tagnames]\n",
    "    annotations = [x for x in annotation_objects]\n",
    "    annotations = [y for x in annotations for y in x]\n",
    "    annotations = [get_annotation(x, 'type1')\n",
    "                    if x.tagName == 'MEDICATION' else get_annotation(x, 'status')\n",
    "                    if x.tagName == 'SMOKER' else get_annotation(x, 'indicator') \n",
    "                    for x in annotations]\n",
    "    annotations = combine_annotations(annotations)\n",
    "    annotations = [x for x in annotations if x != 'family_hist.not_present' and x != 'smoker.unknown']\n",
    "#     encoded_annotations = [classes['I-' + x] for x in annotations if ('I-' + x) in classes]\n",
    "#     encoded_annotations.sort(key=lambda x: x)\n",
    "    \n",
    "    text = root.getElementsByTagName(\"TEXT\")[0].firstChild.data\n",
    "    sentences = sent_tokenize(text)\n",
    "    stemmer = SnowballStemmer(\"english\")\n",
    "    words = [[stemmer.stem(y.lower()) for y in word_tokenize(x)] for x in sentences]"
   ]
  },
  {
   "cell_type": "code",
   "execution_count": 10,
   "metadata": {
    "ExecuteTime": {
     "end_time": "2019-06-26T20:14:48.715223Z",
     "start_time": "2019-06-26T20:14:48.701730Z"
    }
   },
   "outputs": [
    {
     "data": {
      "text/plain": [
       "[['record',\n",
       "  'date',\n",
       "  ':',\n",
       "  '2089-08-24',\n",
       "  'name',\n",
       "  ':',\n",
       "  'curti',\n",
       "  ',',\n",
       "  'om',\n",
       "  'mrn',\n",
       "  ':',\n",
       "  '7682941',\n",
       "  'he',\n",
       "  'is',\n",
       "  'feel',\n",
       "  'quit',\n",
       "  'fine',\n",
       "  'today',\n",
       "  '.'],\n",
       " ['he',\n",
       "  'has',\n",
       "  'no',\n",
       "  'specif',\n",
       "  'problem',\n",
       "  'to',\n",
       "  'be',\n",
       "  'to',\n",
       "  'my',\n",
       "  'attent',\n",
       "  '.'],\n",
       " ['he',\n",
       "  'say',\n",
       "  'that',\n",
       "  'he',\n",
       "  'is',\n",
       "  'have',\n",
       "  'no',\n",
       "  'problem',\n",
       "  'with',\n",
       "  'chest',\n",
       "  'pain',\n",
       "  'whatsoev',\n",
       "  'and',\n",
       "  'that',\n",
       "  'includ',\n",
       "  'with',\n",
       "  'exert',\n",
       "  '.'],\n",
       " ['his', 'breath', 'has', 'been', 'fine', 'as', 'well', '.'],\n",
       " ['no', 'short', 'of', 'breath', '.'],\n",
       " ['otherwis',\n",
       "  'he',\n",
       "  'deni',\n",
       "  'ani',\n",
       "  'abdomin',\n",
       "  'pain',\n",
       "  ',',\n",
       "  'joint',\n",
       "  'pain',\n",
       "  ',',\n",
       "  'bowel',\n",
       "  'or',\n",
       "  'bladder',\n",
       "  'difficulti',\n",
       "  '.'],\n",
       " ['the',\n",
       "  'remaind',\n",
       "  'of',\n",
       "  'the',\n",
       "  'review',\n",
       "  'of',\n",
       "  'system',\n",
       "  'is',\n",
       "  'negat',\n",
       "  'in',\n",
       "  'detail',\n",
       "  '.'],\n",
       " ['physic', 'exam', ':', 'on', 'exam', ',', 'he', 'look', 'well', '.'],\n",
       " ['skin', 'is', 'clear', '.'],\n",
       " ['heent', '-', 'perrla', '.'],\n",
       " ['eomi', '.'],\n",
       " ['tms', 'and', 'throat', 'clear', '.'],\n",
       " ['neck', 'suppl', '.'],\n",
       " ['no', 'thyromegali', '.'],\n",
       " ['no', 'lymphadenopathi', '.'],\n",
       " ['lung', 'are', 'clear', '.'],\n",
       " ['heart', 'is', 'regular', 'rate', 'and', 'rhythm', '.'],\n",
       " ['no', 'murmur', ',', 'gallop', 'or', 'rub', '.'],\n",
       " ['abdomen', 'is', 'soft', 'and', 'nontend', '.'],\n",
       " ['no', 'mass', '.'],\n",
       " ['no', 'hsm', '.'],\n",
       " ['extrem', 'with', 'no', 'edema', '.'],\n",
       " ['neurolog', 'fulli', 'intact', '.'],\n",
       " ['assess',\n",
       "  'and',\n",
       "  'plan',\n",
       "  ':',\n",
       "  '(',\n",
       "  '1',\n",
       "  ')',\n",
       "  'angina/hypertension/hyperlipidemia',\n",
       "  '.'],\n",
       " ['he', 'is', 'do', 'quit', 'well', 'and', 'veri', 'stabl', '.'],\n",
       " ['sinc',\n",
       "  'his',\n",
       "  'cholesterol',\n",
       "  'was',\n",
       "  'in',\n",
       "  'such',\n",
       "  'great',\n",
       "  'shape',\n",
       "  'just',\n",
       "  'a',\n",
       "  'few',\n",
       "  'month',\n",
       "  'ago',\n",
       "  ',',\n",
       "  'no',\n",
       "  'need',\n",
       "  'to',\n",
       "  'recheck',\n",
       "  'here',\n",
       "  'today',\n",
       "  '.'],\n",
       " ['(', '2', ')', 'bladder', 'stone', '.'],\n",
       " ['he',\n",
       "  'had',\n",
       "  'this',\n",
       "  'dealt',\n",
       "  'with',\n",
       "  'by',\n",
       "  'dr.',\n",
       "  'gome',\n",
       "  'of',\n",
       "  'urolog',\n",
       "  '.'],\n",
       " ['(', '3', ')', 'diabet', 'mellitus', '.'],\n",
       " ['veri', 'stabl', '.'],\n",
       " ['check', 'glycosyl', 'hemoglobin', '.'],\n",
       " ['he', 'is', 'up', 'to', 'date', 'on', 'his', 'eye', 'exam', '.'],\n",
       " ['follow-up', 'with', 'me', 'in', 'three', 'month', '.'],\n",
       " ['william', 'v.', 'geiger', ',', 'm.d', '.'],\n",
       " ['wvg/xin/quilici']]"
      ]
     },
     "execution_count": 10,
     "metadata": {},
     "output_type": "execute_result"
    }
   ],
   "source": [
    "words"
   ]
  },
  {
   "cell_type": "code",
   "execution_count": 12,
   "metadata": {
    "ExecuteTime": {
     "end_time": "2019-06-26T20:15:44.272895Z",
     "start_time": "2019-06-26T20:15:44.265554Z"
    }
   },
   "outputs": [
    {
     "data": {
      "text/plain": [
       "['hyperlipidemia.mention.continuing',\n",
       " 'hypertension.mention.continuing',\n",
       " 'cad.symptom.before_dct',\n",
       " 'diabetes.mention.continuing']"
      ]
     },
     "execution_count": 12,
     "metadata": {},
     "output_type": "execute_result"
    }
   ],
   "source": [
    "annotations"
   ]
  },
  {
   "cell_type": "code",
   "execution_count": null,
   "metadata": {},
   "outputs": [],
   "source": []
  }
 ],
 "metadata": {
  "kernelspec": {
   "display_name": "Python 3",
   "language": "python",
   "name": "python3"
  },
  "language_info": {
   "codemirror_mode": {
    "name": "ipython",
    "version": 3
   },
   "file_extension": ".py",
   "mimetype": "text/x-python",
   "name": "python",
   "nbconvert_exporter": "python",
   "pygments_lexer": "ipython3",
   "version": "3.6.7"
  }
 },
 "nbformat": 4,
 "nbformat_minor": 2
}
