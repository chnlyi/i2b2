{
 "cells": [
  {
   "cell_type": "code",
   "execution_count": 1,
   "metadata": {
    "ExecuteTime": {
     "end_time": "2019-05-03T19:45:42.842144Z",
     "start_time": "2019-05-03T19:45:41.127764Z"
    }
   },
   "outputs": [
    {
     "name": "stderr",
     "output_type": "stream",
     "text": [
      "Using TensorFlow backend.\n"
     ]
    }
   ],
   "source": [
    "import numpy as np\n",
    "from gensim.models import Word2Vec\n",
    "from keras.callbacks import Callback, EarlyStopping\n",
    "from keras.models import Model\n",
    "from keras.layers import Input, Dense, Embedding, SpatialDropout1D, concatenate, Bidirectional, GlobalAveragePooling1D, GlobalMaxPooling1D, CuDNNGRU, CuDNNLSTM, GRU, LSTM, Reshape, TimeDistributed\n",
    "from keras.preprocessing.text import Tokenizer, text_to_word_sequence\n",
    "from keras.preprocessing.sequence import pad_sequences\n",
    "from sklearn.metrics import log_loss, roc_auc_score, accuracy_score, hamming_loss, f1_score\n",
    "from sklearn.preprocessing import MultiLabelBinarizer\n",
    "from tqdm import tnrange, tqdm_notebook\n",
    "from utils import process_data, multilabel_confusion_matrix"
   ]
  },
  {
   "cell_type": "code",
   "execution_count": 2,
   "metadata": {
    "ExecuteTime": {
     "end_time": "2019-05-03T19:45:42.852273Z",
     "start_time": "2019-05-03T19:45:42.844597Z"
    }
   },
   "outputs": [],
   "source": [
    "# Defining some constants: \n",
    "window_size   = 5   # Window size for word2vec\n",
    "embed_size    = 10   # Length of the vector that we willl get from the embedding layer\n",
    "latent_dim    = 1024  # Hidden layers dimension \n",
    "dropout_rate  = 0.5   # Rate of the dropout layers\n",
    "#batch_size    =     # Batch size\n",
    "epochs        = 30    # Number of epochs\n",
    "max_features  = 60000"
   ]
  },
  {
   "cell_type": "code",
   "execution_count": 3,
   "metadata": {
    "ExecuteTime": {
     "end_time": "2019-05-03T19:46:49.058712Z",
     "start_time": "2019-05-03T19:45:42.854906Z"
    }
   },
   "outputs": [
    {
     "name": "stdout",
     "output_type": "stream",
     "text": [
      "Loading files with 3 times upsampling for tagged lines in /host_home/data/i2b2/2014/training/training-RiskFactors-Complete-Set1\n"
     ]
    },
    {
     "data": {
      "application/vnd.jupyter.widget-view+json": {
       "model_id": "485fa169ea7e4d319c28827850309db8",
       "version_major": 2,
       "version_minor": 0
      },
      "text/plain": [
       "HBox(children=(IntProgress(value=0, max=521), HTML(value='')))"
      ]
     },
     "metadata": {},
     "output_type": "display_data"
    },
    {
     "name": "stdout",
     "output_type": "stream",
     "text": [
      "\n",
      "Loading files with 3 times upsampling for tagged lines in /host_home/data/i2b2/2014/training/training-RiskFactors-Complete-Set2\n"
     ]
    },
    {
     "data": {
      "application/vnd.jupyter.widget-view+json": {
       "model_id": "47c56371e07746d1a223e88167bf04a0",
       "version_major": 2,
       "version_minor": 0
      },
      "text/plain": [
       "HBox(children=(IntProgress(value=0, max=269), HTML(value='')))"
      ]
     },
     "metadata": {},
     "output_type": "display_data"
    },
    {
     "name": "stdout",
     "output_type": "stream",
     "text": [
      "\n",
      "Loading files in /host_home/data/i2b2/2014/testing/testing-RiskFactors-Complete\n"
     ]
    },
    {
     "data": {
      "application/vnd.jupyter.widget-view+json": {
       "model_id": "6eea03711c8e4ba898a6af28d2b88fc9",
       "version_major": 2,
       "version_minor": 0
      },
      "text/plain": [
       "HBox(children=(IntProgress(value=0, max=514), HTML(value='')))"
      ]
     },
     "metadata": {},
     "output_type": "display_data"
    },
    {
     "name": "stdout",
     "output_type": "stream",
     "text": [
      "\n"
     ]
    }
   ],
   "source": [
    "notes_train_1, labels_train_1, gold_labels_train_1 = process_data('/host_home/data/i2b2/2014/training/training-RiskFactors-Complete-Set1', up=3) \n",
    "notes_train_2, labels_train_2, gold_labels_train_2 = process_data('/host_home/data/i2b2/2014/training/training-RiskFactors-Complete-Set2', up=3) \n",
    "notes_train = notes_train_1 + notes_train_2\n",
    "labels_train = labels_train_1 + labels_train_2\n",
    "gold_labels_train = gold_labels_train_1 + gold_labels_train_2\n",
    "notes_test, labels_test, gold_labels_test = process_data('/host_home/data/i2b2/2014/testing/testing-RiskFactors-Complete') \n",
    "notes = notes_train + notes_test\n",
    "labels = labels_train + labels_test\n",
    "gold_labels = gold_labels_train + gold_labels_test\n",
    "#notes_train = np.array(notes_train)\n",
    "#notes_test = np.array(notes_test)"
   ]
  },
  {
   "cell_type": "code",
   "execution_count": 4,
   "metadata": {
    "ExecuteTime": {
     "end_time": "2019-05-03T19:46:49.066700Z",
     "start_time": "2019-05-03T19:46:49.061376Z"
    }
   },
   "outputs": [
    {
     "name": "stdout",
     "output_type": "stream",
     "text": [
      "521 521 521 269 269 269 790 790 790 514 514 514 1304 1304 1304\n"
     ]
    }
   ],
   "source": [
    "print(len(labels_train_1), \n",
    "      len(gold_labels_train_1), \n",
    "      len(notes_train_1),\n",
    "      \n",
    "      len(labels_train_2),\n",
    "      len(gold_labels_train_2), \n",
    "      len(notes_train_2),\n",
    "      \n",
    "      len(labels_train), \n",
    "      len(gold_labels_train),\n",
    "      len(notes_train),\n",
    "      \n",
    "      len(labels_test), \n",
    "      len(gold_labels_test), \n",
    "      len(notes_test),\n",
    "      \n",
    "      len(labels),\n",
    "      len(gold_labels),\n",
    "      len(notes))"
   ]
  },
  {
   "cell_type": "code",
   "execution_count": 5,
   "metadata": {
    "ExecuteTime": {
     "end_time": "2019-05-03T19:46:50.647424Z",
     "start_time": "2019-05-03T19:46:49.068721Z"
    }
   },
   "outputs": [],
   "source": [
    "# prepare features\n",
    "X_txt = [' '.join(i) for i in notes]\n",
    "X_train_txt = [' '.join(i) for i in notes_train]\n",
    "X_test_txt = [' '.join(i) for i in notes_test]\n",
    "\n",
    "tokenizer = Tokenizer(num_words=max_features, filters='')\n",
    "tokenizer.fit_on_texts(X_txt)\n",
    "\n",
    "X_seq = tokenizer.texts_to_sequences(X_txt) \n",
    "X_train_seq = tokenizer.texts_to_sequences(X_train_txt) \n",
    "X_test_seq = tokenizer.texts_to_sequences(X_test_txt) \n",
    "\n",
    "word_index = tokenizer.word_index\n",
    "nb_words = min(max_features, len(word_index))"
   ]
  },
  {
   "cell_type": "code",
   "execution_count": 6,
   "metadata": {
    "ExecuteTime": {
     "end_time": "2019-05-03T19:46:54.149585Z",
     "start_time": "2019-05-03T19:46:50.650073Z"
    }
   },
   "outputs": [],
   "source": [
    "# helper functions\n",
    "def get_coefs(word, *arr): return word, np.asarray(arr, dtype='float32')\n",
    "\n",
    "def get_embedding_matrix(embedding_index, word_index, max_features, embed_size):\n",
    "    nb_words = min(max_features, len(word_index))\n",
    "    embedding_matrix = np.zeros((nb_words, embed_size))\n",
    "    for word, i in word_index.items():\n",
    "        if i >= max_features: \n",
    "            continue\n",
    "        embedding_vector = embedding_index.get(word)\n",
    "        if embedding_vector is not None: \n",
    "            embedding_matrix[i-1] = embedding_vector\n",
    "    return embedding_matrix\n",
    "\n",
    "# prepare embedding matrix\n",
    "w2v = Word2Vec(notes, size=embed_size, window=window_size, min_count=1, workers=4)\n",
    "embedding_index = dict(zip(w2v.wv.index2word, w2v.wv.vectors))\n",
    "embedding_matrix = get_embedding_matrix(embedding_index=embedding_index, word_index=word_index, max_features=max_features, embed_size=embed_size)"
   ]
  },
  {
   "cell_type": "code",
   "execution_count": 7,
   "metadata": {
    "ExecuteTime": {
     "end_time": "2019-05-03T19:46:55.537603Z",
     "start_time": "2019-05-03T19:46:54.151417Z"
    }
   },
   "outputs": [],
   "source": [
    "# prepare targets\n",
    "all_labels = [label for notes_label in labels for label in notes_label]\n",
    "\n",
    "mlb = MultiLabelBinarizer()\n",
    "mlb.fit(all_labels)\n",
    "num_labels = len(mlb.classes_)\n",
    "Y_train = []\n",
    "Y_test = []\n",
    "for i in labels_train:\n",
    "    l = mlb.transform(i)\n",
    "    Y_train.append(l)\n",
    "for i in labels_test:\n",
    "    l = mlb.transform(i)\n",
    "    Y_test.append(l)"
   ]
  },
  {
   "cell_type": "code",
   "execution_count": 8,
   "metadata": {
    "ExecuteTime": {
     "end_time": "2019-05-03T19:46:55.543887Z",
     "start_time": "2019-05-03T19:46:55.539863Z"
    }
   },
   "outputs": [],
   "source": [
    "# function help convert labels to category labels\n",
    "def get_cat_labels(label):\n",
    "    c = '.'\n",
    "    positions = [pos for pos, char in enumerate(label) if char == c]\n",
    "    if label != 'O':\n",
    "        sl = slice(positions[0]+1,positions[1])\n",
    "        cat_label = label[sl]\n",
    "    else:\n",
    "        cat_label = label\n",
    "    return cat_label    "
   ]
  },
  {
   "cell_type": "code",
   "execution_count": 9,
   "metadata": {
    "ExecuteTime": {
     "end_time": "2019-05-03T19:47:04.076297Z",
     "start_time": "2019-05-03T19:46:55.545174Z"
    }
   },
   "outputs": [],
   "source": [
    "# prepare cagtegory label targets\n",
    "cat_labels = [[set([get_cat_labels(i) for i in list(j)]) for j in k] for k in labels]\n",
    "cat_labels_train = [[set([get_cat_labels(i) for i in list(j)]) for j in k] for k in labels_train]\n",
    "cat_labels_test = [[set([get_cat_labels(i) for i in list(j)]) for j in k] for k in labels_test]\n",
    "all_cat_labels = [label for notes_label in cat_labels for label in notes_label]\n",
    "\n",
    "cat_mlb = MultiLabelBinarizer()\n",
    "cat_mlb.fit(all_cat_labels)\n",
    "num_cat_labels = len(cat_mlb.classes_)\n",
    "Y_cat_train = []\n",
    "Y_cat_test = []\n",
    "for i in cat_labels_train:\n",
    "    l = cat_mlb.transform(i)\n",
    "    Y_cat_train.append(l)\n",
    "for i in cat_labels_test:\n",
    "    l = cat_mlb.transform(i)\n",
    "    Y_cat_test.append(l)"
   ]
  },
  {
   "cell_type": "code",
   "execution_count": 10,
   "metadata": {
    "ExecuteTime": {
     "end_time": "2019-05-03T19:47:08.113682Z",
     "start_time": "2019-05-03T19:47:08.099193Z"
    }
   },
   "outputs": [],
   "source": [
    "# model function with pretrained embedding matrix and Timedistributed\n",
    "def get_model_2(nb_words, num_labels, model_type='CuDNNLSTM'):\n",
    "    inp = Input(shape=(None, ))\n",
    "    x = Embedding(nb_words, embed_size, weights=[embedding_matrix])(inp)\n",
    "    x = SpatialDropout1D(dropout_rate)(x)\n",
    "    if model_type=='CuDNNGRU':\n",
    "        x = Bidirectional(CuDNNGRU(128, return_sequences=True))(x)\n",
    "    elif model_type=='GRU':\n",
    "        x = Bidirectional(GRU(128, return_sequences=True))(x)\n",
    "    elif model_type=='CuDNNLSTM':\n",
    "        x = Bidirectional(CuDNNLSTM(128, return_sequences=True))(x)\n",
    "    elif model_type=='LSTM':\n",
    "        x = Bidirectional(LSTM(128, return_sequences=True))(x)\n",
    "    else:\n",
    "        raise ValueError('Please specify model_type as one of the following:n\\CuDNNGRU, CuDNNLSTM, GRU, LSTM')\n",
    "#     outp = TimeDistributed(Dense((num_labels), activation=\"sigmoid\"))(x)\n",
    "    outp = Dense((num_labels), activation=\"sigmoid\")(x)\n",
    "    \n",
    "    model = Model(inputs=inp, outputs=outp)\n",
    "    model.compile(loss='binary_crossentropy',\n",
    "                  optimizer='adam',\n",
    "                  metrics=['accuracy'])\n",
    "\n",
    "    return model"
   ]
  },
  {
   "cell_type": "code",
   "execution_count": null,
   "metadata": {
    "ExecuteTime": {
     "start_time": "2019-05-03T19:47:08.445Z"
    },
    "scrolled": true
   },
   "outputs": [
    {
     "name": "stdout",
     "output_type": "stream",
     "text": [
      "WARNING:tensorflow:From /usr/local/lib/python3.6/dist-packages/tensorflow/python/framework/op_def_library.py:263: colocate_with (from tensorflow.python.framework.ops) is deprecated and will be removed in a future version.\n",
      "Instructions for updating:\n",
      "Colocations handled automatically by placer.\n",
      "WARNING:tensorflow:From /usr/local/lib/python3.6/dist-packages/keras/backend/tensorflow_backend.py:3445: calling dropout (from tensorflow.python.ops.nn_ops) with keep_prob is deprecated and will be removed in a future version.\n",
      "Instructions for updating:\n",
      "Please use `rate` instead of `keep_prob`. Rate should be set to `rate = 1 - keep_prob`.\n",
      "_________________________________________________________________\n",
      "Layer (type)                 Output Shape              Param #   \n",
      "=================================================================\n",
      "input_1 (InputLayer)         (None, None)              0         \n",
      "_________________________________________________________________\n",
      "embedding_1 (Embedding)      (None, None, 10)          449840    \n",
      "_________________________________________________________________\n",
      "spatial_dropout1d_1 (Spatial (None, None, 10)          0         \n",
      "_________________________________________________________________\n",
      "bidirectional_1 (Bidirection (None, None, 256)         143360    \n",
      "_________________________________________________________________\n",
      "dense_1 (Dense)              (None, None, 97)          24929     \n",
      "=================================================================\n",
      "Total params: 618,129\n",
      "Trainable params: 618,129\n",
      "Non-trainable params: 0\n",
      "_________________________________________________________________\n"
     ]
    }
   ],
   "source": [
    "# model summary\n",
    "model = get_model_2(nb_words=nb_words,num_labels=num_labels)\n",
    "model.summary()"
   ]
  },
  {
   "cell_type": "code",
   "execution_count": 12,
   "metadata": {
    "ExecuteTime": {
     "end_time": "2019-04-12T18:09:31.812232Z",
     "start_time": "2019-04-12T18:09:31.806661Z"
    }
   },
   "outputs": [],
   "source": [
    "# prepare model metrics\n",
    "class CustomEvaluation(Callback):\n",
    "    def __init__(self, validation_data=(), interval=1):\n",
    "        super(Callback, self).__init__()\n",
    "\n",
    "        self.interval = interval\n",
    "        self.X_val, self.y_val = list(validation_data)\n",
    "\n",
    "    def on_epoch_end(self, epoch, logs={}):\n",
    "        if epoch % self.interval == 0:\n",
    "            y_pred = []\n",
    "            for x in self.X_val:\n",
    "                y = np.squeeze(self.model.predict_on_batch(x))\n",
    "                y_pred.append(y)\n",
    "            y_pred = np.concatenate(y_pred)\n",
    "            y_pred_ham = y_pred > 0.5\n",
    "            y_val = np.concatenate(self.y_val)\n",
    "            roc = roc_auc_score(y_val, y_pred, average='micro')\n",
    "            loss = log_loss(y_val, y_pred)\n",
    "            ham = hamming_loss(y_val, y_pred_ham)\n",
    "            sub = accuracy_score(y_val, y_pred_ham)\n",
    "            f1 = f1_score(y_val, y_pred_ham, average='micro')\n",
    "            print(\"Adiitional val metrics: - ROC-AUC: %.6f - Log-Loss: %.6f - Hamming-Loss: %.6f - Subset-Accuracy: %.6f - F1-Score: %.6f\" % (roc, loss, ham, sub, f1))"
   ]
  },
  {
   "cell_type": "code",
   "execution_count": 13,
   "metadata": {
    "ExecuteTime": {
     "end_time": "2019-04-12T18:09:31.816915Z",
     "start_time": "2019-04-12T18:09:31.813739Z"
    }
   },
   "outputs": [],
   "source": [
    "# data generator function\n",
    "def generator(X_seq, Y):\n",
    "    while True:\n",
    "        for x, y in zip(X_seq, Y):\n",
    "            x = np.array(x).reshape((1,-1))\n",
    "            y = np.array(y).reshape((1,-1, y.shape[1]))\n",
    "            yield x, y"
   ]
  },
  {
   "cell_type": "code",
   "execution_count": 15,
   "metadata": {
    "ExecuteTime": {
     "end_time": "2019-04-12T18:07:20.076640Z",
     "start_time": "2019-04-12T18:07:17.918822Z"
    },
    "scrolled": false
   },
   "outputs": [
    {
     "name": "stdout",
     "output_type": "stream",
     "text": [
      "Epoch 1/30\n",
      "  1/790 [..............................] - ETA: 25:06 - loss: 0.6931 - acc: 0.9865"
     ]
    },
    {
     "ename": "InternalError",
     "evalue": "Failed to call ThenRnnBackward with model config: [rnn_mode, rnn_input_mode, rnn_direction_mode]: 2, 0, 0 , [num_layers, input_size, num_units, dir_count, seq_length, batch_size]: [1, 10, 128, 1, 788, 1] \n\t [[{{node training/Adam/gradients/bidirectional_1/CudnnRNN_grad/CudnnRNNBackprop}}]]",
     "output_type": "error",
     "traceback": [
      "\u001b[0;31m\u001b[0m",
      "\u001b[0;31mInternalError\u001b[0mTraceback (most recent call last)",
      "\u001b[0;32m<ipython-input-15-95b47652feee>\u001b[0m in \u001b[0;36m<module>\u001b[0;34m\u001b[0m\n\u001b[1;32m     10\u001b[0m                  \u001b[0mvalidation_steps\u001b[0m\u001b[0;34m=\u001b[0m\u001b[0mlen\u001b[0m\u001b[0;34m(\u001b[0m\u001b[0mY_test\u001b[0m\u001b[0;34m)\u001b[0m\u001b[0;34m,\u001b[0m\u001b[0;34m\u001b[0m\u001b[0;34m\u001b[0m\u001b[0m\n\u001b[1;32m     11\u001b[0m                  \u001b[0mcallbacks\u001b[0m\u001b[0;34m=\u001b[0m\u001b[0;34m[\u001b[0m\u001b[0mcustevl\u001b[0m\u001b[0;34m,\u001b[0m \u001b[0mearlystop\u001b[0m\u001b[0;34m]\u001b[0m\u001b[0;34m,\u001b[0m\u001b[0;34m\u001b[0m\u001b[0;34m\u001b[0m\u001b[0m\n\u001b[0;32m---> 12\u001b[0;31m                  verbose=1)\n\u001b[0m",
      "\u001b[0;32m/usr/local/lib/python3.6/dist-packages/keras/legacy/interfaces.py\u001b[0m in \u001b[0;36mwrapper\u001b[0;34m(*args, **kwargs)\u001b[0m\n\u001b[1;32m     89\u001b[0m                 warnings.warn('Update your `' + object_name + '` call to the ' +\n\u001b[1;32m     90\u001b[0m                               'Keras 2 API: ' + signature, stacklevel=2)\n\u001b[0;32m---> 91\u001b[0;31m             \u001b[0;32mreturn\u001b[0m \u001b[0mfunc\u001b[0m\u001b[0;34m(\u001b[0m\u001b[0;34m*\u001b[0m\u001b[0margs\u001b[0m\u001b[0;34m,\u001b[0m \u001b[0;34m**\u001b[0m\u001b[0mkwargs\u001b[0m\u001b[0;34m)\u001b[0m\u001b[0;34m\u001b[0m\u001b[0;34m\u001b[0m\u001b[0m\n\u001b[0m\u001b[1;32m     92\u001b[0m         \u001b[0mwrapper\u001b[0m\u001b[0;34m.\u001b[0m\u001b[0m_original_function\u001b[0m \u001b[0;34m=\u001b[0m \u001b[0mfunc\u001b[0m\u001b[0;34m\u001b[0m\u001b[0;34m\u001b[0m\u001b[0m\n\u001b[1;32m     93\u001b[0m         \u001b[0;32mreturn\u001b[0m \u001b[0mwrapper\u001b[0m\u001b[0;34m\u001b[0m\u001b[0;34m\u001b[0m\u001b[0m\n",
      "\u001b[0;32m/usr/local/lib/python3.6/dist-packages/keras/engine/training.py\u001b[0m in \u001b[0;36mfit_generator\u001b[0;34m(self, generator, steps_per_epoch, epochs, verbose, callbacks, validation_data, validation_steps, class_weight, max_queue_size, workers, use_multiprocessing, shuffle, initial_epoch)\u001b[0m\n\u001b[1;32m   1416\u001b[0m             \u001b[0muse_multiprocessing\u001b[0m\u001b[0;34m=\u001b[0m\u001b[0muse_multiprocessing\u001b[0m\u001b[0;34m,\u001b[0m\u001b[0;34m\u001b[0m\u001b[0;34m\u001b[0m\u001b[0m\n\u001b[1;32m   1417\u001b[0m             \u001b[0mshuffle\u001b[0m\u001b[0;34m=\u001b[0m\u001b[0mshuffle\u001b[0m\u001b[0;34m,\u001b[0m\u001b[0;34m\u001b[0m\u001b[0;34m\u001b[0m\u001b[0m\n\u001b[0;32m-> 1418\u001b[0;31m             initial_epoch=initial_epoch)\n\u001b[0m\u001b[1;32m   1419\u001b[0m \u001b[0;34m\u001b[0m\u001b[0m\n\u001b[1;32m   1420\u001b[0m     \u001b[0;34m@\u001b[0m\u001b[0minterfaces\u001b[0m\u001b[0;34m.\u001b[0m\u001b[0mlegacy_generator_methods_support\u001b[0m\u001b[0;34m\u001b[0m\u001b[0;34m\u001b[0m\u001b[0m\n",
      "\u001b[0;32m/usr/local/lib/python3.6/dist-packages/keras/engine/training_generator.py\u001b[0m in \u001b[0;36mfit_generator\u001b[0;34m(model, generator, steps_per_epoch, epochs, verbose, callbacks, validation_data, validation_steps, class_weight, max_queue_size, workers, use_multiprocessing, shuffle, initial_epoch)\u001b[0m\n\u001b[1;32m    215\u001b[0m                 outs = model.train_on_batch(x, y,\n\u001b[1;32m    216\u001b[0m                                             \u001b[0msample_weight\u001b[0m\u001b[0;34m=\u001b[0m\u001b[0msample_weight\u001b[0m\u001b[0;34m,\u001b[0m\u001b[0;34m\u001b[0m\u001b[0;34m\u001b[0m\u001b[0m\n\u001b[0;32m--> 217\u001b[0;31m                                             class_weight=class_weight)\n\u001b[0m\u001b[1;32m    218\u001b[0m \u001b[0;34m\u001b[0m\u001b[0m\n\u001b[1;32m    219\u001b[0m                 \u001b[0mouts\u001b[0m \u001b[0;34m=\u001b[0m \u001b[0mto_list\u001b[0m\u001b[0;34m(\u001b[0m\u001b[0mouts\u001b[0m\u001b[0;34m)\u001b[0m\u001b[0;34m\u001b[0m\u001b[0;34m\u001b[0m\u001b[0m\n",
      "\u001b[0;32m/usr/local/lib/python3.6/dist-packages/keras/engine/training.py\u001b[0m in \u001b[0;36mtrain_on_batch\u001b[0;34m(self, x, y, sample_weight, class_weight)\u001b[0m\n\u001b[1;32m   1215\u001b[0m             \u001b[0mins\u001b[0m \u001b[0;34m=\u001b[0m \u001b[0mx\u001b[0m \u001b[0;34m+\u001b[0m \u001b[0my\u001b[0m \u001b[0;34m+\u001b[0m \u001b[0msample_weights\u001b[0m\u001b[0;34m\u001b[0m\u001b[0;34m\u001b[0m\u001b[0m\n\u001b[1;32m   1216\u001b[0m         \u001b[0mself\u001b[0m\u001b[0;34m.\u001b[0m\u001b[0m_make_train_function\u001b[0m\u001b[0;34m(\u001b[0m\u001b[0;34m)\u001b[0m\u001b[0;34m\u001b[0m\u001b[0;34m\u001b[0m\u001b[0m\n\u001b[0;32m-> 1217\u001b[0;31m         \u001b[0moutputs\u001b[0m \u001b[0;34m=\u001b[0m \u001b[0mself\u001b[0m\u001b[0;34m.\u001b[0m\u001b[0mtrain_function\u001b[0m\u001b[0;34m(\u001b[0m\u001b[0mins\u001b[0m\u001b[0;34m)\u001b[0m\u001b[0;34m\u001b[0m\u001b[0;34m\u001b[0m\u001b[0m\n\u001b[0m\u001b[1;32m   1218\u001b[0m         \u001b[0;32mreturn\u001b[0m \u001b[0munpack_singleton\u001b[0m\u001b[0;34m(\u001b[0m\u001b[0moutputs\u001b[0m\u001b[0;34m)\u001b[0m\u001b[0;34m\u001b[0m\u001b[0;34m\u001b[0m\u001b[0m\n\u001b[1;32m   1219\u001b[0m \u001b[0;34m\u001b[0m\u001b[0m\n",
      "\u001b[0;32m/usr/local/lib/python3.6/dist-packages/keras/backend/tensorflow_backend.py\u001b[0m in \u001b[0;36m__call__\u001b[0;34m(self, inputs)\u001b[0m\n\u001b[1;32m   2713\u001b[0m                 \u001b[0;32mreturn\u001b[0m \u001b[0mself\u001b[0m\u001b[0;34m.\u001b[0m\u001b[0m_legacy_call\u001b[0m\u001b[0;34m(\u001b[0m\u001b[0minputs\u001b[0m\u001b[0;34m)\u001b[0m\u001b[0;34m\u001b[0m\u001b[0;34m\u001b[0m\u001b[0m\n\u001b[1;32m   2714\u001b[0m \u001b[0;34m\u001b[0m\u001b[0m\n\u001b[0;32m-> 2715\u001b[0;31m             \u001b[0;32mreturn\u001b[0m \u001b[0mself\u001b[0m\u001b[0;34m.\u001b[0m\u001b[0m_call\u001b[0m\u001b[0;34m(\u001b[0m\u001b[0minputs\u001b[0m\u001b[0;34m)\u001b[0m\u001b[0;34m\u001b[0m\u001b[0;34m\u001b[0m\u001b[0m\n\u001b[0m\u001b[1;32m   2716\u001b[0m         \u001b[0;32melse\u001b[0m\u001b[0;34m:\u001b[0m\u001b[0;34m\u001b[0m\u001b[0;34m\u001b[0m\u001b[0m\n\u001b[1;32m   2717\u001b[0m             \u001b[0;32mif\u001b[0m \u001b[0mpy_any\u001b[0m\u001b[0;34m(\u001b[0m\u001b[0mis_tensor\u001b[0m\u001b[0;34m(\u001b[0m\u001b[0mx\u001b[0m\u001b[0;34m)\u001b[0m \u001b[0;32mfor\u001b[0m \u001b[0mx\u001b[0m \u001b[0;32min\u001b[0m \u001b[0minputs\u001b[0m\u001b[0;34m)\u001b[0m\u001b[0;34m:\u001b[0m\u001b[0;34m\u001b[0m\u001b[0;34m\u001b[0m\u001b[0m\n",
      "\u001b[0;32m/usr/local/lib/python3.6/dist-packages/keras/backend/tensorflow_backend.py\u001b[0m in \u001b[0;36m_call\u001b[0;34m(self, inputs)\u001b[0m\n\u001b[1;32m   2673\u001b[0m             \u001b[0mfetched\u001b[0m \u001b[0;34m=\u001b[0m \u001b[0mself\u001b[0m\u001b[0;34m.\u001b[0m\u001b[0m_callable_fn\u001b[0m\u001b[0;34m(\u001b[0m\u001b[0;34m*\u001b[0m\u001b[0marray_vals\u001b[0m\u001b[0;34m,\u001b[0m \u001b[0mrun_metadata\u001b[0m\u001b[0;34m=\u001b[0m\u001b[0mself\u001b[0m\u001b[0;34m.\u001b[0m\u001b[0mrun_metadata\u001b[0m\u001b[0;34m)\u001b[0m\u001b[0;34m\u001b[0m\u001b[0;34m\u001b[0m\u001b[0m\n\u001b[1;32m   2674\u001b[0m         \u001b[0;32melse\u001b[0m\u001b[0;34m:\u001b[0m\u001b[0;34m\u001b[0m\u001b[0;34m\u001b[0m\u001b[0m\n\u001b[0;32m-> 2675\u001b[0;31m             \u001b[0mfetched\u001b[0m \u001b[0;34m=\u001b[0m \u001b[0mself\u001b[0m\u001b[0;34m.\u001b[0m\u001b[0m_callable_fn\u001b[0m\u001b[0;34m(\u001b[0m\u001b[0;34m*\u001b[0m\u001b[0marray_vals\u001b[0m\u001b[0;34m)\u001b[0m\u001b[0;34m\u001b[0m\u001b[0;34m\u001b[0m\u001b[0m\n\u001b[0m\u001b[1;32m   2676\u001b[0m         \u001b[0;32mreturn\u001b[0m \u001b[0mfetched\u001b[0m\u001b[0;34m[\u001b[0m\u001b[0;34m:\u001b[0m\u001b[0mlen\u001b[0m\u001b[0;34m(\u001b[0m\u001b[0mself\u001b[0m\u001b[0;34m.\u001b[0m\u001b[0moutputs\u001b[0m\u001b[0;34m)\u001b[0m\u001b[0;34m]\u001b[0m\u001b[0;34m\u001b[0m\u001b[0;34m\u001b[0m\u001b[0m\n\u001b[1;32m   2677\u001b[0m \u001b[0;34m\u001b[0m\u001b[0m\n",
      "\u001b[0;32m/usr/local/lib/python3.6/dist-packages/tensorflow/python/client/session.py\u001b[0m in \u001b[0;36m__call__\u001b[0;34m(self, *args, **kwargs)\u001b[0m\n\u001b[1;32m   1437\u001b[0m           ret = tf_session.TF_SessionRunCallable(\n\u001b[1;32m   1438\u001b[0m               \u001b[0mself\u001b[0m\u001b[0;34m.\u001b[0m\u001b[0m_session\u001b[0m\u001b[0;34m.\u001b[0m\u001b[0m_session\u001b[0m\u001b[0;34m,\u001b[0m \u001b[0mself\u001b[0m\u001b[0;34m.\u001b[0m\u001b[0m_handle\u001b[0m\u001b[0;34m,\u001b[0m \u001b[0margs\u001b[0m\u001b[0;34m,\u001b[0m \u001b[0mstatus\u001b[0m\u001b[0;34m,\u001b[0m\u001b[0;34m\u001b[0m\u001b[0;34m\u001b[0m\u001b[0m\n\u001b[0;32m-> 1439\u001b[0;31m               run_metadata_ptr)\n\u001b[0m\u001b[1;32m   1440\u001b[0m         \u001b[0;32mif\u001b[0m \u001b[0mrun_metadata\u001b[0m\u001b[0;34m:\u001b[0m\u001b[0;34m\u001b[0m\u001b[0;34m\u001b[0m\u001b[0m\n\u001b[1;32m   1441\u001b[0m           \u001b[0mproto_data\u001b[0m \u001b[0;34m=\u001b[0m \u001b[0mtf_session\u001b[0m\u001b[0;34m.\u001b[0m\u001b[0mTF_GetBuffer\u001b[0m\u001b[0;34m(\u001b[0m\u001b[0mrun_metadata_ptr\u001b[0m\u001b[0;34m)\u001b[0m\u001b[0;34m\u001b[0m\u001b[0;34m\u001b[0m\u001b[0m\n",
      "\u001b[0;32m/usr/local/lib/python3.6/dist-packages/tensorflow/python/framework/errors_impl.py\u001b[0m in \u001b[0;36m__exit__\u001b[0;34m(self, type_arg, value_arg, traceback_arg)\u001b[0m\n\u001b[1;32m    526\u001b[0m             \u001b[0;32mNone\u001b[0m\u001b[0;34m,\u001b[0m \u001b[0;32mNone\u001b[0m\u001b[0;34m,\u001b[0m\u001b[0;34m\u001b[0m\u001b[0;34m\u001b[0m\u001b[0m\n\u001b[1;32m    527\u001b[0m             \u001b[0mcompat\u001b[0m\u001b[0;34m.\u001b[0m\u001b[0mas_text\u001b[0m\u001b[0;34m(\u001b[0m\u001b[0mc_api\u001b[0m\u001b[0;34m.\u001b[0m\u001b[0mTF_Message\u001b[0m\u001b[0;34m(\u001b[0m\u001b[0mself\u001b[0m\u001b[0;34m.\u001b[0m\u001b[0mstatus\u001b[0m\u001b[0;34m.\u001b[0m\u001b[0mstatus\u001b[0m\u001b[0;34m)\u001b[0m\u001b[0;34m)\u001b[0m\u001b[0;34m,\u001b[0m\u001b[0;34m\u001b[0m\u001b[0;34m\u001b[0m\u001b[0m\n\u001b[0;32m--> 528\u001b[0;31m             c_api.TF_GetCode(self.status.status))\n\u001b[0m\u001b[1;32m    529\u001b[0m     \u001b[0;31m# Delete the underlying status object from memory otherwise it stays alive\u001b[0m\u001b[0;34m\u001b[0m\u001b[0;34m\u001b[0m\u001b[0;34m\u001b[0m\u001b[0m\n\u001b[1;32m    530\u001b[0m     \u001b[0;31m# as there is a reference to status from this from the traceback due to\u001b[0m\u001b[0;34m\u001b[0m\u001b[0;34m\u001b[0m\u001b[0;34m\u001b[0m\u001b[0m\n",
      "\u001b[0;31mInternalError\u001b[0m: Failed to call ThenRnnBackward with model config: [rnn_mode, rnn_input_mode, rnn_direction_mode]: 2, 0, 0 , [num_layers, input_size, num_units, dir_count, seq_length, batch_size]: [1, 10, 128, 1, 788, 1] \n\t [[{{node training/Adam/gradients/bidirectional_1/CudnnRNN_grad/CudnnRNNBackprop}}]]"
     ]
    }
   ],
   "source": [
    "# model training\n",
    "custevl = CustomEvaluation(validation_data=(X_test_seq, Y_test), interval=1)\n",
    "earlystop = EarlyStopping(monitor='val_loss', min_delta=3e-4, patience=3, verbose=0, mode='auto')\n",
    "train_gen = generator(X_train_seq,Y_train)\n",
    "test_gen = generator(X_test_seq,Y_test)\n",
    "hist = model.fit_generator(train_gen,\n",
    "                 steps_per_epoch=len(Y_train),\n",
    "                 epochs=epochs,\n",
    "                 validation_data=test_gen,\n",
    "                 validation_steps=len(Y_test),\n",
    "                 callbacks=[custevl, earlystop],\n",
    "                 verbose=1)"
   ]
  },
  {
   "cell_type": "code",
   "execution_count": null,
   "metadata": {
    "ExecuteTime": {
     "end_time": "2019-04-12T18:04:58.211977Z",
     "start_time": "2019-04-12T18:03:54.293Z"
    }
   },
   "outputs": [],
   "source": [
    "# prediction of test data\n",
    "Y_pred = []\n",
    "for x in X_test_seq:\n",
    "    x = np.array(x).reshape((1,-1))\n",
    "    y_pred = np.squeeze(model.predict_on_batch(x))\n",
    "    Y_pred.append(y_pred)\n",
    "Y_pred_concat = np.concatenate(Y_pred)\n",
    "Y_val = np.concatenate(Y_test)"
   ]
  },
  {
   "cell_type": "code",
   "execution_count": null,
   "metadata": {
    "ExecuteTime": {
     "end_time": "2019-04-12T18:04:58.212846Z",
     "start_time": "2019-04-12T18:04:01.014Z"
    },
    "scrolled": true
   },
   "outputs": [],
   "source": [
    "# confusion matrix \n",
    "cm = multilabel_confusion_matrix(Y_val, np.where(Y_pred_concat > 0.5, 1, 0))\n",
    "for i, j in zip(cm, mlb.classes_):\n",
    "    print(j+':\\n', i,'\\n')"
   ]
  },
  {
   "cell_type": "code",
   "execution_count": 18,
   "metadata": {
    "ExecuteTime": {
     "end_time": "2019-04-12T14:13:01.980819Z",
     "start_time": "2019-04-12T14:13:01.465221Z"
    },
    "scrolled": true
   },
   "outputs": [
    {
     "name": "stdout",
     "output_type": "stream",
     "text": [
      "_________________________________________________________________\n",
      "Layer (type)                 Output Shape              Param #   \n",
      "=================================================================\n",
      "input_2 (InputLayer)         (None, None)              0         \n",
      "_________________________________________________________________\n",
      "embedding_2 (Embedding)      (None, None, 10)          449840    \n",
      "_________________________________________________________________\n",
      "spatial_dropout1d_2 (Spatial (None, None, 10)          0         \n",
      "_________________________________________________________________\n",
      "bidirectional_2 (Bidirection (None, None, 256)         143360    \n",
      "_________________________________________________________________\n",
      "time_distributed_2 (TimeDist (None, None, 9)           2313      \n",
      "=================================================================\n",
      "Total params: 595,513\n",
      "Trainable params: 595,513\n",
      "Non-trainable params: 0\n",
      "_________________________________________________________________\n"
     ]
    }
   ],
   "source": [
    "# model summary for category label model\n",
    "cat_model = get_model_2(nb_words=nb_words,num_labels=num_cat_labels)\n",
    "cat_model.summary()"
   ]
  },
  {
   "cell_type": "code",
   "execution_count": 19,
   "metadata": {
    "ExecuteTime": {
     "end_time": "2019-04-12T14:31:51.825132Z",
     "start_time": "2019-04-12T14:13:01.982667Z"
    },
    "scrolled": true
   },
   "outputs": [
    {
     "name": "stdout",
     "output_type": "stream",
     "text": [
      "Epoch 1/30\n",
      "790/790 [==============================] - 59s 75ms/step - loss: 0.0922 - acc: 0.9774 - val_loss: 0.0524 - val_acc: 0.9896\n",
      "Adiitional val metrics: - ROC-AUC: 0.967911 - Log-Loss: 1.801534 - Hamming-Loss: 0.032248 - Subset-Accuracy: 0.834074 - F1-Score: 0.857611\n",
      "Epoch 2/30\n",
      "790/790 [==============================] - 60s 76ms/step - loss: 0.0811 - acc: 0.9794 - val_loss: 0.0467 - val_acc: 0.9896\n",
      "Adiitional val metrics: - ROC-AUC: 0.965380 - Log-Loss: 1.662158 - Hamming-Loss: 0.033159 - Subset-Accuracy: 0.840902 - F1-Score: 0.854452\n",
      "Epoch 3/30\n",
      "790/790 [==============================] - 61s 77ms/step - loss: 0.0762 - acc: 0.9798 - val_loss: 0.0431 - val_acc: 0.9898\n",
      "Adiitional val metrics: - ROC-AUC: 0.965910 - Log-Loss: 1.559360 - Hamming-Loss: 0.035290 - Subset-Accuracy: 0.837675 - F1-Score: 0.847795\n",
      "Epoch 4/30\n",
      "790/790 [==============================] - 61s 77ms/step - loss: 0.0709 - acc: 0.9804 - val_loss: 0.0390 - val_acc: 0.9903\n",
      "Adiitional val metrics: - ROC-AUC: 0.973688 - Log-Loss: 1.412469 - Hamming-Loss: 0.030469 - Subset-Accuracy: 0.856325 - F1-Score: 0.868445\n",
      "Epoch 5/30\n",
      "790/790 [==============================] - 61s 77ms/step - loss: 0.0664 - acc: 0.9809 - val_loss: 0.0372 - val_acc: 0.9904\n",
      "Adiitional val metrics: - ROC-AUC: 0.976233 - Log-Loss: 1.284806 - Hamming-Loss: 0.028703 - Subset-Accuracy: 0.868432 - F1-Score: 0.876495\n",
      "Epoch 6/30\n",
      "790/790 [==============================] - 63s 80ms/step - loss: 0.0620 - acc: 0.9817 - val_loss: 0.0346 - val_acc: 0.9907\n",
      "Adiitional val metrics: - ROC-AUC: 0.980319 - Log-Loss: 1.132684 - Hamming-Loss: 0.024508 - Subset-Accuracy: 0.893918 - F1-Score: 0.894738\n",
      "Epoch 7/30\n",
      "790/790 [==============================] - 63s 80ms/step - loss: 0.0598 - acc: 0.9822 - val_loss: 0.0329 - val_acc: 0.9908\n",
      "Adiitional val metrics: - ROC-AUC: 0.984009 - Log-Loss: 0.990020 - Hamming-Loss: 0.020303 - Subset-Accuracy: 0.901435 - F1-Score: 0.911515\n",
      "Epoch 8/30\n",
      "790/790 [==============================] - 63s 80ms/step - loss: 0.0548 - acc: 0.9831 - val_loss: 0.0310 - val_acc: 0.9912\n",
      "Adiitional val metrics: - ROC-AUC: 0.983935 - Log-Loss: 0.918535 - Hamming-Loss: 0.020875 - Subset-Accuracy: 0.902953 - F1-Score: 0.909063\n",
      "Epoch 9/30\n",
      "790/790 [==============================] - 64s 81ms/step - loss: 0.0504 - acc: 0.9841 - val_loss: 0.0300 - val_acc: 0.9914\n",
      "Adiitional val metrics: - ROC-AUC: 0.984934 - Log-Loss: 0.845472 - Hamming-Loss: 0.019595 - Subset-Accuracy: 0.906789 - F1-Score: 0.914008\n",
      "Epoch 10/30\n",
      "790/790 [==============================] - 63s 80ms/step - loss: 0.0481 - acc: 0.9848 - val_loss: 0.0287 - val_acc: 0.9917\n",
      "Adiitional val metrics: - ROC-AUC: 0.984984 - Log-Loss: 0.788094 - Hamming-Loss: 0.019042 - Subset-Accuracy: 0.909753 - F1-Score: 0.916253\n",
      "Epoch 11/30\n",
      "790/790 [==============================] - 59s 74ms/step - loss: 0.0467 - acc: 0.9850 - val_loss: 0.0291 - val_acc: 0.9917\n",
      "Adiitional val metrics: - ROC-AUC: 0.986308 - Log-Loss: 0.730172 - Hamming-Loss: 0.017267 - Subset-Accuracy: 0.920446 - F1-Score: 0.923847\n",
      "Epoch 12/30\n",
      "790/790 [==============================] - 59s 75ms/step - loss: 0.0441 - acc: 0.9857 - val_loss: 0.0279 - val_acc: 0.9919\n",
      "Adiitional val metrics: - ROC-AUC: 0.986653 - Log-Loss: 0.682778 - Hamming-Loss: 0.017618 - Subset-Accuracy: 0.918902 - F1-Score: 0.922454\n",
      "Epoch 13/30\n",
      "790/790 [==============================] - 58s 74ms/step - loss: 0.0426 - acc: 0.9861 - val_loss: 0.0276 - val_acc: 0.9921\n",
      "Adiitional val metrics: - ROC-AUC: 0.987295 - Log-Loss: 0.635432 - Hamming-Loss: 0.016773 - Subset-Accuracy: 0.922076 - F1-Score: 0.925947\n",
      "Epoch 14/30\n",
      "790/790 [==============================] - 58s 74ms/step - loss: 0.0413 - acc: 0.9865 - val_loss: 0.0276 - val_acc: 0.9922\n",
      "Adiitional val metrics: - ROC-AUC: 0.987529 - Log-Loss: 0.616164 - Hamming-Loss: 0.016623 - Subset-Accuracy: 0.926324 - F1-Score: 0.926614\n",
      "Epoch 15/30\n",
      "790/790 [==============================] - 59s 74ms/step - loss: 0.0399 - acc: 0.9869 - val_loss: 0.0273 - val_acc: 0.9923\n",
      "Adiitional val metrics: - ROC-AUC: 0.987923 - Log-Loss: 0.581472 - Hamming-Loss: 0.016667 - Subset-Accuracy: 0.925541 - F1-Score: 0.926447\n",
      "Epoch 16/30\n",
      "790/790 [==============================] - 57s 72ms/step - loss: 0.0382 - acc: 0.9873 - val_loss: 0.0273 - val_acc: 0.9923\n",
      "Adiitional val metrics: - ROC-AUC: 0.988241 - Log-Loss: 0.562639 - Hamming-Loss: 0.017055 - Subset-Accuracy: 0.918890 - F1-Score: 0.924753\n",
      "Epoch 17/30\n",
      "790/790 [==============================] - 58s 73ms/step - loss: 0.0372 - acc: 0.9875 - val_loss: 0.0271 - val_acc: 0.9923\n",
      "Adiitional val metrics: - ROC-AUC: 0.988562 - Log-Loss: 0.535966 - Hamming-Loss: 0.015878 - Subset-Accuracy: 0.926099 - F1-Score: 0.929689\n",
      "Epoch 18/30\n",
      "790/790 [==============================] - 58s 74ms/step - loss: 0.0362 - acc: 0.9878 - val_loss: 0.0270 - val_acc: 0.9924\n",
      "Adiitional val metrics: - ROC-AUC: 0.988530 - Log-Loss: 0.538429 - Hamming-Loss: 0.015961 - Subset-Accuracy: 0.922919 - F1-Score: 0.929199\n"
     ]
    }
   ],
   "source": [
    "# model training for category label model\n",
    "cat_custevl = CustomEvaluation(validation_data=(X_test_seq, Y_cat_test), interval=1)\n",
    "earlystop = EarlyStopping(monitor='val_loss', min_delta=3e-4, patience=3, verbose=0, mode='auto')\n",
    "cat_train_gen = generator(X_train_seq,Y_cat_train)\n",
    "cat_test_gen = generator(X_test_seq,Y_cat_test)\n",
    "cat_hist = cat_model.fit_generator(cat_train_gen,\n",
    "                 steps_per_epoch=len(Y_cat_train),\n",
    "                 epochs=epochs,\n",
    "                 validation_data=cat_test_gen,\n",
    "                 validation_steps=len(Y_cat_test),\n",
    "                 callbacks=[cat_custevl, earlystop],\n",
    "                 verbose=1)"
   ]
  },
  {
   "cell_type": "code",
   "execution_count": 20,
   "metadata": {
    "ExecuteTime": {
     "end_time": "2019-04-12T14:32:02.412884Z",
     "start_time": "2019-04-12T14:31:51.830941Z"
    }
   },
   "outputs": [],
   "source": [
    "# prediction of test data for category label model\n",
    "Y_cat_pred = []\n",
    "for x in X_test_seq:\n",
    "    x = np.array(x).reshape((1,-1))\n",
    "    y_pred = np.squeeze(cat_model.predict_on_batch(x))\n",
    "    Y_cat_pred.append(y_pred)\n",
    "Y_cat_pred_concat = np.concatenate(Y_cat_pred)\n",
    "Y_cat_val = np.concatenate(Y_cat_test)"
   ]
  },
  {
   "cell_type": "code",
   "execution_count": 21,
   "metadata": {
    "ExecuteTime": {
     "end_time": "2019-04-12T14:32:02.561922Z",
     "start_time": "2019-04-12T14:32:02.416702Z"
    },
    "scrolled": true
   },
   "outputs": [
    {
     "name": "stdout",
     "output_type": "stream",
     "text": [
      "CAD:\n",
      " [[310707    690]\n",
      " [  2877   1161]] \n",
      "\n",
      "DIABETES:\n",
      " [[313290    338]\n",
      " [   845    962]] \n",
      "\n",
      "FAMILY_HIST:\n",
      " [[315221      0]\n",
      " [   214      0]] \n",
      "\n",
      "HYPERLIPIDEMIA:\n",
      " [[314874     44]\n",
      " [   313    204]] \n",
      "\n",
      "HYPERTENSION:\n",
      " [[313585    434]\n",
      " [   629    787]] \n",
      "\n",
      "MEDICATION:\n",
      " [[310537    452]\n",
      " [  2229   2217]] \n",
      "\n",
      "O:\n",
      " [[  6391   7823]\n",
      " [  2746 298475]] \n",
      "\n",
      "OBESE:\n",
      " [[315233     27]\n",
      " [    74    101]] \n",
      "\n",
      "SMOKER:\n",
      " [[313364    439]\n",
      " [   860    772]] \n",
      "\n"
     ]
    }
   ],
   "source": [
    "# confusion matrix for category label model\n",
    "cat_cm = multilabel_confusion_matrix(Y_cat_val, np.where(Y_cat_pred_concat > 0.5, 1, 0))\n",
    "for i, j in zip(cat_cm, cat_mlb.classes_):\n",
    "    print(j+':\\n', i,'\\n')"
   ]
  },
  {
   "cell_type": "code",
   "execution_count": 22,
   "metadata": {
    "ExecuteTime": {
     "end_time": "2019-04-12T14:32:03.696378Z",
     "start_time": "2019-04-12T14:32:02.563875Z"
    }
   },
   "outputs": [],
   "source": [
    "# prepare gold lebels for predicted data\n",
    "gold_labels_pred = [{i for s in mlb.inverse_transform(y_pred>0.5) for i in s if i != 'O'} for y_pred in Y_pred]\n",
    "gold_cat_labels_pred = [{i for s in cat_mlb.inverse_transform(y_pred>0.5) for i in s if i != 'O'} for y_pred in Y_cat_pred]"
   ]
  },
  {
   "cell_type": "code",
   "execution_count": 23,
   "metadata": {
    "ExecuteTime": {
     "end_time": "2019-04-12T14:32:03.710591Z",
     "start_time": "2019-04-12T14:32:03.698191Z"
    },
    "scrolled": true
   },
   "outputs": [],
   "source": [
    "# prepare gold label targets\n",
    "gmlb = MultiLabelBinarizer()\n",
    "gmlb.fit(gold_labels)\n",
    "num_gold_labels = len(gmlb.classes_)\n",
    "Y_gold_test = gmlb.transform(gold_labels_test)\n",
    "Y_gold_pred = gmlb.transform(gold_labels_pred)"
   ]
  },
  {
   "cell_type": "code",
   "execution_count": 24,
   "metadata": {
    "ExecuteTime": {
     "end_time": "2019-04-12T14:32:03.822802Z",
     "start_time": "2019-04-12T14:32:03.712061Z"
    }
   },
   "outputs": [],
   "source": [
    "# prepare cagtegory gold label targets\n",
    "gold_cat_labels = [{get_cat_labels(i) for i in k} for k in gold_labels]\n",
    "gold_cat_labels_test = [{get_cat_labels(i) for i in k} for k in gold_labels_test]\n",
    "\n",
    "cat_gmlb = MultiLabelBinarizer()\n",
    "cat_gmlb.fit(gold_cat_labels)\n",
    "num_cat_gold_labels = len(cat_gmlb.classes_)\n",
    "Y_gold_cat_test = cat_gmlb.transform(gold_cat_labels_test)\n",
    "Y_gold_cat_pred = cat_gmlb.transform(gold_cat_labels_pred)"
   ]
  },
  {
   "cell_type": "code",
   "execution_count": 31,
   "metadata": {
    "ExecuteTime": {
     "end_time": "2019-04-12T14:48:24.180747Z",
     "start_time": "2019-04-12T14:48:24.148323Z"
    }
   },
   "outputs": [
    {
     "name": "stdout",
     "output_type": "stream",
     "text": [
      "I.CAD.after_DCT.event:\n",
      " [[513   0]\n",
      " [  1   0]] \n",
      "\n",
      "I.CAD.after_DCT.mention:\n",
      " [[335  12]\n",
      " [ 56 111]] \n",
      "\n",
      "I.CAD.after_DCT.symptom:\n",
      " [[511   0]\n",
      " [  3   0]] \n",
      "\n",
      "I.CAD.before_DCT.event:\n",
      " [[387   0]\n",
      " [127   0]] \n",
      "\n",
      "I.CAD.before_DCT.mention:\n",
      " [[337  11]\n",
      " [ 67  99]] \n",
      "\n",
      "I.CAD.before_DCT.symptom:\n",
      " [[474   0]\n",
      " [ 40   0]] \n",
      "\n",
      "I.CAD.before_DCT.test:\n",
      " [[461   0]\n",
      " [ 53   0]] \n",
      "\n",
      "I.CAD.during_DCT.event:\n",
      " [[505   0]\n",
      " [  9   0]] \n",
      "\n",
      "I.CAD.during_DCT.mention:\n",
      " [[325  18]\n",
      " [ 48 123]] \n",
      "\n",
      "I.CAD.during_DCT.symptom:\n",
      " [[488   0]\n",
      " [ 26   0]] \n",
      "\n",
      "I.CAD.during_DCT.test:\n",
      " [[508   0]\n",
      " [  6   0]] \n",
      "\n",
      "I.DIABETES.after_DCT.mention:\n",
      " [[152   9]\n",
      " [ 79 274]] \n",
      "\n",
      "I.DIABETES.before_DCT.A1C:\n",
      " [[443   0]\n",
      " [ 71   0]] \n",
      "\n",
      "I.DIABETES.before_DCT.glucose:\n",
      " [[496   0]\n",
      " [ 18   0]] \n",
      "\n",
      "I.DIABETES.before_DCT.mention:\n",
      " [[151  11]\n",
      " [ 78 274]] \n",
      "\n",
      "I.DIABETES.during_DCT.A1C:\n",
      " [[503   0]\n",
      " [ 11   0]] \n",
      "\n",
      "I.DIABETES.during_DCT.glucose:\n",
      " [[499   0]\n",
      " [ 15   0]] \n",
      "\n",
      "I.DIABETES.during_DCT.mention:\n",
      " [[151   9]\n",
      " [ 76 278]] \n",
      "\n",
      "I.FAMILY_HIST.present:\n",
      " [[495   0]\n",
      " [ 19   0]] \n",
      "\n",
      "I.HYPERLIPIDEMIA.after_DCT.mention:\n",
      " [[274   6]\n",
      " [ 90 144]] \n",
      "\n",
      "I.HYPERLIPIDEMIA.before_DCT.high_LDL:\n",
      " [[488   0]\n",
      " [ 26   0]] \n",
      "\n",
      "I.HYPERLIPIDEMIA.before_DCT.high_chol.:\n",
      " [[505   0]\n",
      " [  9   0]] \n",
      "\n",
      "I.HYPERLIPIDEMIA.before_DCT.mention:\n",
      " [[273   7]\n",
      " [ 84 150]] \n",
      "\n",
      "I.HYPERLIPIDEMIA.during_DCT.high_LDL:\n",
      " [[511   0]\n",
      " [  3   0]] \n",
      "\n",
      "I.HYPERLIPIDEMIA.during_DCT.high_chol.:\n",
      " [[512   0]\n",
      " [  2   0]] \n",
      "\n",
      "I.HYPERLIPIDEMIA.during_DCT.mention:\n",
      " [[273   7]\n",
      " [ 81 153]] \n",
      "\n",
      "I.HYPERTENSION.after_DCT.mention:\n",
      " [[142   9]\n",
      " [ 29 334]] \n",
      "\n",
      "I.HYPERTENSION.before_DCT.high_bp:\n",
      " [[494   0]\n",
      " [ 20   0]] \n",
      "\n",
      "I.HYPERTENSION.before_DCT.mention:\n",
      " [[141  11]\n",
      " [ 27 335]] \n",
      "\n",
      "I.HYPERTENSION.during_DCT.high_bp:\n",
      " [[237 102]\n",
      " [ 84  91]] \n",
      "\n",
      "I.HYPERTENSION.during_DCT.mention:\n",
      " [[141   9]\n",
      " [ 31 333]] \n",
      "\n",
      "I.MEDICATION.after_DCT.ACE_inhibitor:\n",
      " [[297  17]\n",
      " [ 54 146]] \n",
      "\n",
      "I.MEDICATION.after_DCT.ARB:\n",
      " [[453   0]\n",
      " [ 61   0]] \n",
      "\n",
      "I.MEDICATION.after_DCT.DPP4_inhibitors:\n",
      " [[512   0]\n",
      " [  2   0]] \n",
      "\n",
      "I.MEDICATION.after_DCT.anti_diabetes:\n",
      " [[514   0]\n",
      " [  0   0]] \n",
      "\n",
      "I.MEDICATION.after_DCT.aspirin:\n",
      " [[244  11]\n",
      " [ 32 227]] \n",
      "\n",
      "I.MEDICATION.after_DCT.beta_blocker:\n",
      " [[233   6]\n",
      " [113 162]] \n",
      "\n",
      "I.MEDICATION.after_DCT.calcium_channel_blocker:\n",
      " [[389   0]\n",
      " [ 92  33]] \n",
      "\n",
      "I.MEDICATION.after_DCT.diuretic:\n",
      " [[444   1]\n",
      " [ 59  10]] \n",
      "\n",
      "I.MEDICATION.after_DCT.ezetimibe:\n",
      " [[500   0]\n",
      " [ 14   0]] \n",
      "\n",
      "I.MEDICATION.after_DCT.fibrate:\n",
      " [[484   0]\n",
      " [ 30   0]] \n",
      "\n",
      "I.MEDICATION.after_DCT.insulin:\n",
      " [[382   1]\n",
      " [ 56  75]] \n",
      "\n",
      "I.MEDICATION.after_DCT.metformin:\n",
      " [[391   5]\n",
      " [ 54  64]] \n",
      "\n",
      "I.MEDICATION.after_DCT.niacin:\n",
      " [[506   0]\n",
      " [  8   0]] \n",
      "\n",
      "I.MEDICATION.after_DCT.nitrate:\n",
      " [[429   0]\n",
      " [ 85   0]] \n",
      "\n",
      "I.MEDICATION.after_DCT.statin:\n",
      " [[237   4]\n",
      " [104 169]] \n",
      "\n",
      "I.MEDICATION.after_DCT.sulfonylureas:\n",
      " [[418   1]\n",
      " [ 76  19]] \n",
      "\n",
      "I.MEDICATION.after_DCT.thiazolidinedione:\n",
      " [[494   0]\n",
      " [ 19   1]] \n",
      "\n",
      "I.MEDICATION.after_DCT.thienopyridine:\n",
      " [[419   4]\n",
      " [ 23  68]] \n",
      "\n",
      "I.MEDICATION.before_DCT.ACE_inhibitor:\n",
      " [[296  13]\n",
      " [ 55 150]] \n",
      "\n",
      "I.MEDICATION.before_DCT.ARB:\n",
      " [[448   0]\n",
      " [ 66   0]] \n",
      "\n",
      "I.MEDICATION.before_DCT.DPP4_inhibitors:\n",
      " [[512   0]\n",
      " [  2   0]] \n",
      "\n",
      "I.MEDICATION.before_DCT.anti_diabetes:\n",
      " [[514   0]\n",
      " [  0   0]] \n",
      "\n",
      "I.MEDICATION.before_DCT.aspirin:\n",
      " [[242  12]\n",
      " [ 31 229]] \n",
      "\n",
      "I.MEDICATION.before_DCT.beta_blocker:\n",
      " [[230  11]\n",
      " [ 97 176]] \n",
      "\n",
      "I.MEDICATION.before_DCT.calcium_channel_blocker:\n",
      " [[387   1]\n",
      " [101  25]] \n",
      "\n",
      "I.MEDICATION.before_DCT.diuretic:\n",
      " [[437   0]\n",
      " [ 74   3]] \n",
      "\n",
      "I.MEDICATION.before_DCT.ezetimibe:\n",
      " [[503   0]\n",
      " [ 11   0]] \n",
      "\n",
      "I.MEDICATION.before_DCT.fibrate:\n",
      " [[483   0]\n",
      " [ 31   0]] \n",
      "\n",
      "I.MEDICATION.before_DCT.insulin:\n",
      " [[381   3]\n",
      " [ 61  69]] \n",
      "\n",
      "I.MEDICATION.before_DCT.metformin:\n",
      " [[388   1]\n",
      " [111  14]] \n",
      "\n",
      "I.MEDICATION.before_DCT.niacin:\n",
      " [[506   0]\n",
      " [  8   0]] \n",
      "\n",
      "I.MEDICATION.before_DCT.nitrate:\n",
      " [[423   0]\n",
      " [ 91   0]] \n",
      "\n",
      "I.MEDICATION.before_DCT.statin:\n",
      " [[237   7]\n",
      " [109 161]] \n",
      "\n",
      "I.MEDICATION.before_DCT.sulfonylureas:\n",
      " [[416   1]\n",
      " [ 71  26]] \n",
      "\n",
      "I.MEDICATION.before_DCT.thiazolidinedione:\n",
      " [[492   0]\n",
      " [ 21   1]] \n",
      "\n",
      "I.MEDICATION.before_DCT.thienopyridine:\n",
      " [[417   2]\n",
      " [ 27  68]] \n",
      "\n",
      "I.MEDICATION.during_DCT.ACE_inhibitor:\n",
      " [[298  21]\n",
      " [ 53 142]] \n",
      "\n",
      "I.MEDICATION.during_DCT.ARB:\n",
      " [[451   0]\n",
      " [ 63   0]] \n",
      "\n",
      "I.MEDICATION.during_DCT.DPP4_inhibitors:\n",
      " [[512   0]\n",
      " [  2   0]] \n",
      "\n",
      "I.MEDICATION.during_DCT.anti_diabetes:\n",
      " [[514   0]\n",
      " [  0   0]] \n",
      "\n",
      "I.MEDICATION.during_DCT.aspirin:\n",
      " [[236   8]\n",
      " [ 32 238]] \n",
      "\n",
      "I.MEDICATION.during_DCT.beta_blocker:\n",
      " [[227   9]\n",
      " [120 158]] \n",
      "\n",
      "I.MEDICATION.during_DCT.calcium_channel_blocker:\n",
      " [[387   2]\n",
      " [ 94  31]] \n",
      "\n",
      "I.MEDICATION.during_DCT.diuretic:\n",
      " [[446   1]\n",
      " [ 65   2]] \n",
      "\n",
      "I.MEDICATION.during_DCT.ezetimibe:\n",
      " [[503   0]\n",
      " [ 11   0]] \n",
      "\n",
      "I.MEDICATION.during_DCT.fibrate:\n",
      " [[485   0]\n",
      " [ 29   0]] \n",
      "\n",
      "I.MEDICATION.during_DCT.insulin:\n",
      " [[379   5]\n",
      " [ 53  77]] \n",
      "\n",
      "I.MEDICATION.during_DCT.metformin:\n",
      " [[399   2]\n",
      " [102  11]] \n",
      "\n",
      "I.MEDICATION.during_DCT.niacin:\n",
      " [[508   0]\n",
      " [  6   0]] \n",
      "\n",
      "I.MEDICATION.during_DCT.nitrate:\n",
      " [[414   5]\n",
      " [ 80  15]] \n",
      "\n",
      "I.MEDICATION.during_DCT.statin:\n",
      " [[242  10]\n",
      " [ 93 169]] \n",
      "\n",
      "I.MEDICATION.during_DCT.sulfonylureas:\n",
      " [[419   2]\n",
      " [ 72  21]] \n",
      "\n",
      "I.MEDICATION.during_DCT.thiazolidinedione:\n",
      " [[494   1]\n",
      " [ 18   1]] \n",
      "\n",
      "I.MEDICATION.during_DCT.thienopyridine:\n",
      " [[417   4]\n",
      " [ 22  71]] \n",
      "\n",
      "I.OBESE.after_DCT.BMI:\n",
      " [[512   0]\n",
      " [  2   0]] \n",
      "\n",
      "I.OBESE.after_DCT.mention:\n",
      " [[427  10]\n",
      " [  6  71]] \n",
      "\n",
      "I.OBESE.before_DCT.BMI:\n",
      " [[512   0]\n",
      " [  2   0]] \n",
      "\n",
      "I.OBESE.before_DCT.mention:\n",
      " [[424  13]\n",
      " [  6  71]] \n",
      "\n",
      "I.OBESE.during_DCT.BMI:\n",
      " [[501   0]\n",
      " [ 13   0]] \n",
      "\n",
      "I.OBESE.during_DCT.mention:\n",
      " [[418  10]\n",
      " [  1  85]] \n",
      "\n",
      "I.SMOKER.current:\n",
      " [[481   0]\n",
      " [ 33   0]] \n",
      "\n",
      "I.SMOKER.ever:\n",
      " [[511   0]\n",
      " [  3   0]] \n",
      "\n",
      "I.SMOKER.never:\n",
      " [[394   0]\n",
      " [120   0]] \n",
      "\n",
      "I.SMOKER.past:\n",
      " [[401   0]\n",
      " [113   0]] \n",
      "\n",
      "I.SMOKER.unknown:\n",
      " [[319   0]\n",
      " [194   1]] \n",
      "\n"
     ]
    }
   ],
   "source": [
    "# confusion matrix for gold label\n",
    "gcm = multilabel_confusion_matrix(Y_gold_test, Y_gold_pred)\n",
    "for i, j in zip(gcm, gmlb.classes_):\n",
    "    print(j+':\\n', i,'\\n')"
   ]
  },
  {
   "cell_type": "code",
   "execution_count": 32,
   "metadata": {
    "ExecuteTime": {
     "end_time": "2019-04-12T14:48:43.487138Z",
     "start_time": "2019-04-12T14:48:43.479223Z"
    }
   },
   "outputs": [
    {
     "name": "stdout",
     "output_type": "stream",
     "text": [
      "CAD:\n",
      " [[274  16]\n",
      " [ 73 151]] \n",
      "\n",
      "DIABETES:\n",
      " [[134  18]\n",
      " [ 28 334]] \n",
      "\n",
      "FAMILY_HIST:\n",
      " [[495   0]\n",
      " [ 19   0]] \n",
      "\n",
      "HYPERLIPIDEMIA:\n",
      " [[261   7]\n",
      " [ 80 166]] \n",
      "\n",
      "HYPERTENSION:\n",
      " [[ 85  38]\n",
      " [ 34 357]] \n",
      "\n",
      "MEDICATION:\n",
      " [[ 62   2]\n",
      " [ 36 414]] \n",
      "\n",
      "OBESE:\n",
      " [[422   6]\n",
      " [ 12  74]] \n",
      "\n",
      "SMOKER:\n",
      " [[ 10  40]\n",
      " [ 76 388]] \n",
      "\n"
     ]
    }
   ],
   "source": [
    "# confusion matrix for cagtegory gold label\n",
    "cat_gcm = multilabel_confusion_matrix(Y_gold_cat_test, Y_gold_cat_pred)\n",
    "for i, j in zip(cat_gcm, cat_gmlb.classes_):\n",
    "    print(j+':\\n', i,'\\n')"
   ]
  },
  {
   "cell_type": "code",
   "execution_count": 38,
   "metadata": {
    "ExecuteTime": {
     "end_time": "2019-04-12T14:51:29.695750Z",
     "start_time": "2019-04-12T14:51:29.677676Z"
    }
   },
   "outputs": [
    {
     "data": {
      "text/plain": [
       "0.7739841877228507"
      ]
     },
     "execution_count": 38,
     "metadata": {},
     "output_type": "execute_result"
    }
   ],
   "source": [
    "roc_auc_score(Y_gold_test, Y_gold_pred, average='micro')"
   ]
  },
  {
   "cell_type": "code",
   "execution_count": 39,
   "metadata": {
    "ExecuteTime": {
     "end_time": "2019-04-12T14:51:53.475911Z",
     "start_time": "2019-04-12T14:51:53.459873Z"
    }
   },
   "outputs": [
    {
     "data": {
      "text/plain": [
       "0.6985262902541088"
      ]
     },
     "execution_count": 39,
     "metadata": {},
     "output_type": "execute_result"
    }
   ],
   "source": [
    "f1_score(Y_gold_test, Y_gold_pred, average='micro')"
   ]
  },
  {
   "cell_type": "code",
   "execution_count": 43,
   "metadata": {
    "ExecuteTime": {
     "end_time": "2019-04-12T14:53:57.701328Z",
     "start_time": "2019-04-12T14:53:57.690081Z"
    }
   },
   "outputs": [
    {
     "data": {
      "text/plain": [
       "0.7655172413793104"
      ]
     },
     "execution_count": 43,
     "metadata": {},
     "output_type": "execute_result"
    }
   ],
   "source": [
    "f1_score(Y_gold_test[:, 1], Y_gold_pred[:, 1])"
   ]
  },
  {
   "cell_type": "code",
   "execution_count": 48,
   "metadata": {
    "ExecuteTime": {
     "end_time": "2019-04-12T14:56:48.193563Z",
     "start_time": "2019-04-12T14:56:48.178105Z"
    }
   },
   "outputs": [
    {
     "name": "stderr",
     "output_type": "stream",
     "text": [
      "/usr/local/lib/python3.6/dist-packages/sklearn/metrics/classification.py:1143: UndefinedMetricWarning: F-score is ill-defined and being set to 0.0 in labels with no predicted samples.\n",
      "  'precision', 'predicted', average, warn_for)\n",
      "/usr/local/lib/python3.6/dist-packages/sklearn/metrics/classification.py:1145: UndefinedMetricWarning: F-score is ill-defined and being set to 0.0 in labels with no true samples.\n",
      "  'recall', 'true', average, warn_for)\n"
     ]
    },
    {
     "data": {
      "text/plain": [
       "array([0.        , 0.76551724, 0.        , 0.        , 0.7173913 ,\n",
       "       0.        , 0.        , 0.        , 0.78846154, 0.        ,\n",
       "       0.        , 0.86163522, 0.        , 0.        , 0.86028257,\n",
       "       0.        , 0.        , 0.8673947 , 0.        , 0.75      ,\n",
       "       0.        , 0.        , 0.76726343, 0.        , 0.        ,\n",
       "       0.77664975, 0.94617564, 0.        , 0.94632768, 0.49456522,\n",
       "       0.94334278, 0.80440771, 0.        , 0.        , 0.        ,\n",
       "       0.91348089, 0.73137698, 0.41772152, 0.25      , 0.        ,\n",
       "       0.        , 0.72463768, 0.68449198, 0.        , 0.        ,\n",
       "       0.75784753, 0.33043478, 0.0952381 , 0.83435583, 0.81521739,\n",
       "       0.        , 0.        , 0.        , 0.91417166, 0.76521739,\n",
       "       0.32894737, 0.075     , 0.        , 0.        , 0.68316832,\n",
       "       0.2       , 0.        , 0.        , 0.73515982, 0.41935484,\n",
       "       0.08695652, 0.82424242, 0.79329609, 0.        , 0.        ,\n",
       "       0.        , 0.92248062, 0.71011236, 0.39240506, 0.05714286,\n",
       "       0.        , 0.        , 0.72641509, 0.17460317, 0.        ,\n",
       "       0.26086957, 0.76643991, 0.36206897, 0.0952381 , 0.8452381 ,\n",
       "       0.        , 0.89873418, 0.        , 0.88198758, 0.        ,\n",
       "       0.93922652, 0.        , 0.        , 0.        , 0.        ,\n",
       "       0.01020408])"
      ]
     },
     "execution_count": 48,
     "metadata": {},
     "output_type": "execute_result"
    }
   ],
   "source": [
    "f1_score(Y_gold_test, Y_gold_pred, average=None)"
   ]
  },
  {
   "cell_type": "code",
   "execution_count": 57,
   "metadata": {
    "ExecuteTime": {
     "end_time": "2019-04-12T15:04:06.338717Z",
     "start_time": "2019-04-12T15:04:06.325019Z"
    },
    "scrolled": true
   },
   "outputs": [
    {
     "name": "stdout",
     "output_type": "stream",
     "text": [
      "CAD: 0.772378516624041\n",
      "DIABETES: 0.9355742296918768\n",
      "FAMILY_HIST: 0.0\n",
      "HYPERLIPIDEMIA: 0.7923627684964201\n",
      "HYPERTENSION: 0.9083969465648855\n",
      "MEDICATION: 0.956120092378753\n",
      "OBESE: 0.891566265060241\n",
      "SMOKER: 0.8699551569506727\n"
     ]
    },
    {
     "name": "stderr",
     "output_type": "stream",
     "text": [
      "/usr/local/lib/python3.6/dist-packages/sklearn/metrics/classification.py:1143: UndefinedMetricWarning: F-score is ill-defined and being set to 0.0 in labels with no predicted samples.\n",
      "  'precision', 'predicted', average, warn_for)\n"
     ]
    }
   ],
   "source": [
    "for i, j in zip(f1_score(Y_gold_cat_test, Y_gold_cat_pred, average=None), cat_gmlb.classes_):\n",
    "    print(j+': '+str(i))"
   ]
  },
  {
   "cell_type": "code",
   "execution_count": null,
   "metadata": {},
   "outputs": [],
   "source": []
  },
  {
   "cell_type": "code",
   "execution_count": 5,
   "metadata": {
    "ExecuteTime": {
     "end_time": "2019-04-12T18:25:44.755681Z",
     "start_time": "2019-04-12T18:25:44.746129Z"
    }
   },
   "outputs": [],
   "source": [
    "# prepare gold label targets\n",
    "gmlb = MultiLabelBinarizer()\n",
    "gmlb.fit(gold_labels)\n",
    "num_gold_labels = len(gmlb.classes_)\n",
    "Y_gold_test = gmlb.transform(gold_labels_test)"
   ]
  },
  {
   "cell_type": "code",
   "execution_count": 12,
   "metadata": {
    "ExecuteTime": {
     "end_time": "2019-04-12T18:28:04.969912Z",
     "start_time": "2019-04-12T18:28:04.951945Z"
    }
   },
   "outputs": [
    {
     "name": "stderr",
     "output_type": "stream",
     "text": [
      "/usr/local/lib/python3.6/dist-packages/sklearn/metrics/classification.py:1143: UndefinedMetricWarning: F-score is ill-defined and being set to 0.0 in labels with no predicted samples.\n",
      "  'precision', 'predicted', average, warn_for)\n",
      "/usr/local/lib/python3.6/dist-packages/sklearn/metrics/classification.py:1145: UndefinedMetricWarning: F-score is ill-defined and being set to 0.0 in labels with no true samples.\n",
      "  'recall', 'true', average, warn_for)\n"
     ]
    },
    {
     "data": {
      "text/plain": [
       "array([1., 1., 1., 1., 1., 1., 1., 1., 1., 1., 1., 1., 1., 1., 1., 1., 1.,\n",
       "       1., 1., 1., 1., 1., 1., 1., 1., 1., 1., 1., 1., 1., 1., 1., 1., 1.,\n",
       "       0., 1., 1., 1., 1., 1., 1., 1., 1., 1., 1., 1., 1., 1., 1., 1., 1.,\n",
       "       1., 0., 1., 1., 1., 1., 1., 1., 1., 1., 1., 1., 1., 1., 1., 1., 1.,\n",
       "       1., 1., 0., 1., 1., 1., 1., 1., 1., 1., 1., 1., 1., 1., 1., 1., 1.,\n",
       "       1., 1., 1., 1., 1., 1., 1., 1., 1., 1., 1.])"
      ]
     },
     "execution_count": 12,
     "metadata": {},
     "output_type": "execute_result"
    }
   ],
   "source": [
    "f1_score(Y_gold_test, Y_gold_test, average=None)"
   ]
  },
  {
   "cell_type": "code",
   "execution_count": null,
   "metadata": {},
   "outputs": [],
   "source": []
  },
  {
   "cell_type": "code",
   "execution_count": null,
   "metadata": {},
   "outputs": [],
   "source": []
  },
  {
   "cell_type": "code",
   "execution_count": null,
   "metadata": {},
   "outputs": [],
   "source": []
  },
  {
   "cell_type": "code",
   "execution_count": 26,
   "metadata": {
    "ExecuteTime": {
     "end_time": "2019-04-11T13:36:36.186065Z",
     "start_time": "2019-04-11T13:25:08.620985Z"
    },
    "scrolled": true
   },
   "outputs": [
    {
     "data": {
      "application/vnd.jupyter.widget-view+json": {
       "model_id": "9b11c4f142a74ba79392447e4637590c",
       "version_major": 2,
       "version_minor": 0
      },
      "text/plain": [
       "HBox(children=(IntProgress(value=0, description='total progress', max=10, style=ProgressStyle(description_widt…"
      ]
     },
     "metadata": {},
     "output_type": "display_data"
    },
    {
     "data": {
      "application/vnd.jupyter.widget-view+json": {
       "model_id": "f7513b6f0f674f469a352c809821c5e5",
       "version_major": 2,
       "version_minor": 0
      },
      "text/plain": [
       "HBox(children=(IntProgress(value=0, description='epoch 1 training', max=790, style=ProgressStyle(description_w…"
      ]
     },
     "metadata": {},
     "output_type": "display_data"
    },
    {
     "data": {
      "application/vnd.jupyter.widget-view+json": {
       "model_id": "be8ccde4a5fe463fad26cef5a3c2e89f",
       "version_major": 2,
       "version_minor": 0
      },
      "text/plain": [
       "HBox(children=(IntProgress(value=0, description='epoch 1 validating', max=514, style=ProgressStyle(description…"
      ]
     },
     "metadata": {},
     "output_type": "display_data"
    },
    {
     "name": "stdout",
     "output_type": "stream",
     "text": [
      "Epoch 0 val metrics: - Log-Loss: 0.351766 - Hamming-Loss: 0.001083 - Subset-Accuracy: 0.957040 - F1-Score: 0.949087\n"
     ]
    },
    {
     "data": {
      "application/vnd.jupyter.widget-view+json": {
       "model_id": "1d87c57359ca45e0a346e68aff4dc302",
       "version_major": 2,
       "version_minor": 0
      },
      "text/plain": [
       "HBox(children=(IntProgress(value=0, description='epoch 2 training', max=790, style=ProgressStyle(description_w…"
      ]
     },
     "metadata": {},
     "output_type": "display_data"
    },
    {
     "data": {
      "application/vnd.jupyter.widget-view+json": {
       "model_id": "86770373d9724fbabf17d384900e66ad",
       "version_major": 2,
       "version_minor": 0
      },
      "text/plain": [
       "HBox(children=(IntProgress(value=0, description='epoch 2 validating', max=514, style=ProgressStyle(description…"
      ]
     },
     "metadata": {},
     "output_type": "display_data"
    },
    {
     "name": "stdout",
     "output_type": "stream",
     "text": [
      "Epoch 1 val metrics: - Log-Loss: 0.347610 - Hamming-Loss: 0.001072 - Subset-Accuracy: 0.957779 - F1-Score: 0.949651\n"
     ]
    },
    {
     "data": {
      "application/vnd.jupyter.widget-view+json": {
       "model_id": "41b6af6577c84fba9b7ab5b7b9b84beb",
       "version_major": 2,
       "version_minor": 0
      },
      "text/plain": [
       "HBox(children=(IntProgress(value=0, description='epoch 3 training', max=790, style=ProgressStyle(description_w…"
      ]
     },
     "metadata": {},
     "output_type": "display_data"
    },
    {
     "data": {
      "application/vnd.jupyter.widget-view+json": {
       "model_id": "47cecc6d71264acfaae89f1d150d380d",
       "version_major": 2,
       "version_minor": 0
      },
      "text/plain": [
       "HBox(children=(IntProgress(value=0, description='epoch 3 validating', max=514, style=ProgressStyle(description…"
      ]
     },
     "metadata": {},
     "output_type": "display_data"
    },
    {
     "name": "stdout",
     "output_type": "stream",
     "text": [
      "Epoch 2 val metrics: - Log-Loss: 0.337398 - Hamming-Loss: 0.001058 - Subset-Accuracy: 0.957161 - F1-Score: 0.950335\n"
     ]
    },
    {
     "data": {
      "application/vnd.jupyter.widget-view+json": {
       "model_id": "e9f563c7f61648f889ed1ef972aee5a7",
       "version_major": 2,
       "version_minor": 0
      },
      "text/plain": [
       "HBox(children=(IntProgress(value=0, description='epoch 4 training', max=790, style=ProgressStyle(description_w…"
      ]
     },
     "metadata": {},
     "output_type": "display_data"
    },
    {
     "data": {
      "application/vnd.jupyter.widget-view+json": {
       "model_id": "6bed8c3c35c2486dbc13fd4de8e9b24a",
       "version_major": 2,
       "version_minor": 0
      },
      "text/plain": [
       "HBox(children=(IntProgress(value=0, description='epoch 4 validating', max=514, style=ProgressStyle(description…"
      ]
     },
     "metadata": {},
     "output_type": "display_data"
    },
    {
     "name": "stdout",
     "output_type": "stream",
     "text": [
      "Epoch 3 val metrics: - Log-Loss: 0.333103 - Hamming-Loss: 0.001052 - Subset-Accuracy: 0.956803 - F1-Score: 0.950598\n"
     ]
    },
    {
     "data": {
      "application/vnd.jupyter.widget-view+json": {
       "model_id": "b84d4e8849c44cc89c81f1d8ed734e82",
       "version_major": 2,
       "version_minor": 0
      },
      "text/plain": [
       "HBox(children=(IntProgress(value=0, description='epoch 5 training', max=790, style=ProgressStyle(description_w…"
      ]
     },
     "metadata": {},
     "output_type": "display_data"
    },
    {
     "data": {
      "application/vnd.jupyter.widget-view+json": {
       "model_id": "d337f48d73c7436198a10389683f59ef",
       "version_major": 2,
       "version_minor": 0
      },
      "text/plain": [
       "HBox(children=(IntProgress(value=0, description='epoch 5 validating', max=514, style=ProgressStyle(description…"
      ]
     },
     "metadata": {},
     "output_type": "display_data"
    },
    {
     "name": "stdout",
     "output_type": "stream",
     "text": [
      "Epoch 4 val metrics: - Log-Loss: 0.322978 - Hamming-Loss: 0.001027 - Subset-Accuracy: 0.956368 - F1-Score: 0.951716\n"
     ]
    },
    {
     "data": {
      "application/vnd.jupyter.widget-view+json": {
       "model_id": "ca7886b496cb449a951ed2d49083b57a",
       "version_major": 2,
       "version_minor": 0
      },
      "text/plain": [
       "HBox(children=(IntProgress(value=0, description='epoch 6 training', max=790, style=ProgressStyle(description_w…"
      ]
     },
     "metadata": {},
     "output_type": "display_data"
    },
    {
     "data": {
      "application/vnd.jupyter.widget-view+json": {
       "model_id": "16e6260244cb4df7a393a34c323f2b32",
       "version_major": 2,
       "version_minor": 0
      },
      "text/plain": [
       "HBox(children=(IntProgress(value=0, description='epoch 6 validating', max=514, style=ProgressStyle(description…"
      ]
     },
     "metadata": {},
     "output_type": "display_data"
    },
    {
     "name": "stdout",
     "output_type": "stream",
     "text": [
      "Epoch 5 val metrics: - Log-Loss: 0.321765 - Hamming-Loss: 0.001019 - Subset-Accuracy: 0.956749 - F1-Score: 0.952139\n"
     ]
    },
    {
     "data": {
      "application/vnd.jupyter.widget-view+json": {
       "model_id": "03eaac125a9a4c729ae2b9ad9b18a325",
       "version_major": 2,
       "version_minor": 0
      },
      "text/plain": [
       "HBox(children=(IntProgress(value=0, description='epoch 7 training', max=790, style=ProgressStyle(description_w…"
      ]
     },
     "metadata": {},
     "output_type": "display_data"
    },
    {
     "data": {
      "application/vnd.jupyter.widget-view+json": {
       "model_id": "ca6824658bad4631963d0f546dcc3bef",
       "version_major": 2,
       "version_minor": 0
      },
      "text/plain": [
       "HBox(children=(IntProgress(value=0, description='epoch 7 validating', max=514, style=ProgressStyle(description…"
      ]
     },
     "metadata": {},
     "output_type": "display_data"
    },
    {
     "name": "stdout",
     "output_type": "stream",
     "text": [
      "Epoch 6 val metrics: - Log-Loss: 0.319472 - Hamming-Loss: 0.001020 - Subset-Accuracy: 0.957300 - F1-Score: 0.952150\n"
     ]
    },
    {
     "data": {
      "application/vnd.jupyter.widget-view+json": {
       "model_id": "67447e48d78c45b88db4f86298450c38",
       "version_major": 2,
       "version_minor": 0
      },
      "text/plain": [
       "HBox(children=(IntProgress(value=0, description='epoch 8 training', max=790, style=ProgressStyle(description_w…"
      ]
     },
     "metadata": {},
     "output_type": "display_data"
    },
    {
     "data": {
      "application/vnd.jupyter.widget-view+json": {
       "model_id": "4622edacf18d4eb28f45f81fa279ab45",
       "version_major": 2,
       "version_minor": 0
      },
      "text/plain": [
       "HBox(children=(IntProgress(value=0, description='epoch 8 validating', max=514, style=ProgressStyle(description…"
      ]
     },
     "metadata": {},
     "output_type": "display_data"
    },
    {
     "name": "stdout",
     "output_type": "stream",
     "text": [
      "Epoch 7 val metrics: - Log-Loss: 0.311171 - Hamming-Loss: 0.001006 - Subset-Accuracy: 0.956390 - F1-Score: 0.952800\n"
     ]
    },
    {
     "data": {
      "application/vnd.jupyter.widget-view+json": {
       "model_id": "c96a5c452c3a4192ad0f136a3d88bf77",
       "version_major": 2,
       "version_minor": 0
      },
      "text/plain": [
       "HBox(children=(IntProgress(value=0, description='epoch 9 training', max=790, style=ProgressStyle(description_w…"
      ]
     },
     "metadata": {},
     "output_type": "display_data"
    },
    {
     "data": {
      "application/vnd.jupyter.widget-view+json": {
       "model_id": "9db470483ec647e99aae0aa74dad9d55",
       "version_major": 2,
       "version_minor": 0
      },
      "text/plain": [
       "HBox(children=(IntProgress(value=0, description='epoch 9 validating', max=514, style=ProgressStyle(description…"
      ]
     },
     "metadata": {},
     "output_type": "display_data"
    },
    {
     "name": "stdout",
     "output_type": "stream",
     "text": [
      "Epoch 8 val metrics: - Log-Loss: 0.312243 - Hamming-Loss: 0.001003 - Subset-Accuracy: 0.956964 - F1-Score: 0.952942\n"
     ]
    },
    {
     "data": {
      "application/vnd.jupyter.widget-view+json": {
       "model_id": "dec33517026f45ae998fb9c3d2979dfd",
       "version_major": 2,
       "version_minor": 0
      },
      "text/plain": [
       "HBox(children=(IntProgress(value=0, description='epoch 10 training', max=790, style=ProgressStyle(description_…"
      ]
     },
     "metadata": {},
     "output_type": "display_data"
    },
    {
     "data": {
      "application/vnd.jupyter.widget-view+json": {
       "model_id": "79092a657bca475bbe855316071b148f",
       "version_major": 2,
       "version_minor": 0
      },
      "text/plain": [
       "HBox(children=(IntProgress(value=0, description='epoch 10 validating', max=514, style=ProgressStyle(descriptio…"
      ]
     },
     "metadata": {},
     "output_type": "display_data"
    },
    {
     "name": "stdout",
     "output_type": "stream",
     "text": [
      "Epoch 9 val metrics: - Log-Loss: 0.304512 - Hamming-Loss: 0.000993 - Subset-Accuracy: 0.957218 - F1-Score: 0.953429\n"
     ]
    }
   ],
   "source": [
    "# model training batch by batch\n",
    "epochs = 10\n",
    "patience = 3\n",
    "threshhold = 0.001\n",
    "loss_n = []\n",
    "for epoch in tnrange(epochs, desc='total progress'):\n",
    "    for x, y in tqdm_notebook(zip(X_train_seq, Y_train), desc='epoch '+str(epoch+1)+' training', total=len(Y_train)):\n",
    "        ly = len(y)\n",
    "        x = np.array(x).reshape((1,-1))\n",
    "        y = np.array(y).reshape((1,ly,-1))\n",
    "        model.train_on_batch(x, y)\n",
    "    Y_pred = []\n",
    "    for x in tqdm_notebook(X_test_seq, desc='epoch '+str(epoch+1)+' validating'):\n",
    "        x = np.array(x).reshape((1,-1))\n",
    "        y_pred = np.squeeze(model.predict_on_batch(x))\n",
    "        Y_pred.append(y_pred)\n",
    "    Y_pred = np.concatenate(Y_pred)\n",
    "    Y_pred_ham = Y_pred > 0.5\n",
    "    Y_val = np.concatenate(Y_test)\n",
    "    loss = log_loss(Y_val, Y_pred)\n",
    "    ham = hamming_loss(Y_val, Y_pred_ham)\n",
    "    sub = accuracy_score(Y_val, Y_pred_ham)\n",
    "    f1 = f1_score(Y_val, Y_pred_ham, average='micro')\n",
    "    print(\"Epoch %d val metrics: - Log-Loss: %.6f - Hamming-Loss: %.6f - Subset-Accuracy: %.6f - F1-Score: %.6f\" % (epoch, loss, ham, sub, f1))\n",
    "    loss_n.append(loss)\n",
    "    if len(loss_n) > patience:\n",
    "        for i in loss_n[-4:]:\n",
    "            if loss_n[-1] >= i + threshhold:\n",
    "                break"
   ]
  },
  {
   "cell_type": "code",
   "execution_count": 54,
   "metadata": {
    "ExecuteTime": {
     "end_time": "2019-04-10T19:54:19.765875Z",
     "start_time": "2019-04-10T19:43:41.057393Z"
    }
   },
   "outputs": [
    {
     "data": {
      "application/vnd.jupyter.widget-view+json": {
       "model_id": "33757a182c2249ff8ba0c28823f552e7",
       "version_major": 2,
       "version_minor": 0
      },
      "text/plain": [
       "HBox(children=(IntProgress(value=0, max=10), HTML(value='')))"
      ]
     },
     "metadata": {},
     "output_type": "display_data"
    },
    {
     "data": {
      "application/vnd.jupyter.widget-view+json": {
       "model_id": "bb453f68d3684f6dba9391fb090efa49",
       "version_major": 2,
       "version_minor": 0
      },
      "text/plain": [
       "HBox(children=(IntProgress(value=1, bar_style='info', description='training', max=1, style=ProgressStyle(descr…"
      ]
     },
     "metadata": {},
     "output_type": "display_data"
    },
    {
     "data": {
      "application/vnd.jupyter.widget-view+json": {
       "model_id": "e8398e875dc54809a9864a8625351694",
       "version_major": 2,
       "version_minor": 0
      },
      "text/plain": [
       "HBox(children=(IntProgress(value=0, description='predicting', max=514, style=ProgressStyle(description_width='…"
      ]
     },
     "metadata": {},
     "output_type": "display_data"
    },
    {
     "name": "stdout",
     "output_type": "stream",
     "text": [
      "Epoch 0 val metrics: - Log-Loss: 0.239218 - Hamming-Loss: 0.010005 - Subset-Accuracy: 0.954910\n"
     ]
    },
    {
     "data": {
      "application/vnd.jupyter.widget-view+json": {
       "model_id": "399938569dd24019a7676f4ef594c2d9",
       "version_major": 2,
       "version_minor": 0
      },
      "text/plain": [
       "HBox(children=(IntProgress(value=1, bar_style='info', description='training', max=1, style=ProgressStyle(descr…"
      ]
     },
     "metadata": {},
     "output_type": "display_data"
    },
    {
     "data": {
      "application/vnd.jupyter.widget-view+json": {
       "model_id": "4e1b97df571749c1bfc49b82f087442b",
       "version_major": 2,
       "version_minor": 0
      },
      "text/plain": [
       "HBox(children=(IntProgress(value=0, description='predicting', max=514, style=ProgressStyle(description_width='…"
      ]
     },
     "metadata": {},
     "output_type": "display_data"
    },
    {
     "name": "stdout",
     "output_type": "stream",
     "text": [
      "Epoch 1 val metrics: - Log-Loss: 0.212364 - Hamming-Loss: 0.009780 - Subset-Accuracy: 0.955373\n"
     ]
    },
    {
     "data": {
      "application/vnd.jupyter.widget-view+json": {
       "model_id": "318d1af79b6b484396616b6fbcf9ec21",
       "version_major": 2,
       "version_minor": 0
      },
      "text/plain": [
       "HBox(children=(IntProgress(value=1, bar_style='info', description='training', max=1, style=ProgressStyle(descr…"
      ]
     },
     "metadata": {},
     "output_type": "display_data"
    },
    {
     "data": {
      "application/vnd.jupyter.widget-view+json": {
       "model_id": "b1430ca00c1143d89ae78607da369b97",
       "version_major": 2,
       "version_minor": 0
      },
      "text/plain": [
       "HBox(children=(IntProgress(value=0, description='predicting', max=514, style=ProgressStyle(description_width='…"
      ]
     },
     "metadata": {},
     "output_type": "display_data"
    },
    {
     "name": "stdout",
     "output_type": "stream",
     "text": [
      "Epoch 2 val metrics: - Log-Loss: 0.196264 - Hamming-Loss: 0.009550 - Subset-Accuracy: 0.955572\n"
     ]
    },
    {
     "data": {
      "application/vnd.jupyter.widget-view+json": {
       "model_id": "40d5c49481534e89a822c29270718e51",
       "version_major": 2,
       "version_minor": 0
      },
      "text/plain": [
       "HBox(children=(IntProgress(value=1, bar_style='info', description='training', max=1, style=ProgressStyle(descr…"
      ]
     },
     "metadata": {},
     "output_type": "display_data"
    },
    {
     "data": {
      "application/vnd.jupyter.widget-view+json": {
       "model_id": "aff530d2406544c3b05a92b583e77734",
       "version_major": 2,
       "version_minor": 0
      },
      "text/plain": [
       "HBox(children=(IntProgress(value=0, description='predicting', max=514, style=ProgressStyle(description_width='…"
      ]
     },
     "metadata": {},
     "output_type": "display_data"
    },
    {
     "name": "stdout",
     "output_type": "stream",
     "text": [
      "Epoch 3 val metrics: - Log-Loss: 0.179833 - Hamming-Loss: 0.009293 - Subset-Accuracy: 0.955243\n"
     ]
    },
    {
     "data": {
      "application/vnd.jupyter.widget-view+json": {
       "model_id": "947023b3062b4843bdfbf9c925cbab7c",
       "version_major": 2,
       "version_minor": 0
      },
      "text/plain": [
       "HBox(children=(IntProgress(value=1, bar_style='info', description='training', max=1, style=ProgressStyle(descr…"
      ]
     },
     "metadata": {},
     "output_type": "display_data"
    },
    {
     "data": {
      "application/vnd.jupyter.widget-view+json": {
       "model_id": "b458d7820ccb4c0484fb3894ab919fac",
       "version_major": 2,
       "version_minor": 0
      },
      "text/plain": [
       "HBox(children=(IntProgress(value=0, description='predicting', max=514, style=ProgressStyle(description_width='…"
      ]
     },
     "metadata": {},
     "output_type": "display_data"
    },
    {
     "name": "stdout",
     "output_type": "stream",
     "text": [
      "Epoch 4 val metrics: - Log-Loss: 0.165139 - Hamming-Loss: 0.008795 - Subset-Accuracy: 0.956336\n"
     ]
    },
    {
     "data": {
      "application/vnd.jupyter.widget-view+json": {
       "model_id": "66473635cc93414c88a3b2a50b95eab4",
       "version_major": 2,
       "version_minor": 0
      },
      "text/plain": [
       "HBox(children=(IntProgress(value=1, bar_style='info', description='training', max=1, style=ProgressStyle(descr…"
      ]
     },
     "metadata": {},
     "output_type": "display_data"
    },
    {
     "data": {
      "application/vnd.jupyter.widget-view+json": {
       "model_id": "76ec1782959c4fbe851006a4089360d9",
       "version_major": 2,
       "version_minor": 0
      },
      "text/plain": [
       "HBox(children=(IntProgress(value=0, description='predicting', max=514, style=ProgressStyle(description_width='…"
      ]
     },
     "metadata": {},
     "output_type": "display_data"
    },
    {
     "name": "stdout",
     "output_type": "stream",
     "text": [
      "Epoch 5 val metrics: - Log-Loss: 0.154288 - Hamming-Loss: 0.008518 - Subset-Accuracy: 0.956742\n"
     ]
    },
    {
     "data": {
      "application/vnd.jupyter.widget-view+json": {
       "model_id": "57e969f0ebc046499abe42746f9475a4",
       "version_major": 2,
       "version_minor": 0
      },
      "text/plain": [
       "HBox(children=(IntProgress(value=1, bar_style='info', description='training', max=1, style=ProgressStyle(descr…"
      ]
     },
     "metadata": {},
     "output_type": "display_data"
    },
    {
     "data": {
      "application/vnd.jupyter.widget-view+json": {
       "model_id": "d500b95c102741208b01820022dc6962",
       "version_major": 2,
       "version_minor": 0
      },
      "text/plain": [
       "HBox(children=(IntProgress(value=0, description='predicting', max=514, style=ProgressStyle(description_width='…"
      ]
     },
     "metadata": {},
     "output_type": "display_data"
    },
    {
     "name": "stdout",
     "output_type": "stream",
     "text": [
      "Epoch 6 val metrics: - Log-Loss: 0.148316 - Hamming-Loss: 0.008245 - Subset-Accuracy: 0.957681\n"
     ]
    },
    {
     "data": {
      "application/vnd.jupyter.widget-view+json": {
       "model_id": "bef7f2deab4c494aa0086031cca5b3e5",
       "version_major": 2,
       "version_minor": 0
      },
      "text/plain": [
       "HBox(children=(IntProgress(value=1, bar_style='info', description='training', max=1, style=ProgressStyle(descr…"
      ]
     },
     "metadata": {},
     "output_type": "display_data"
    },
    {
     "data": {
      "application/vnd.jupyter.widget-view+json": {
       "model_id": "608faccd9b8b400bbeac0c3ac1145018",
       "version_major": 2,
       "version_minor": 0
      },
      "text/plain": [
       "HBox(children=(IntProgress(value=0, description='predicting', max=514, style=ProgressStyle(description_width='…"
      ]
     },
     "metadata": {},
     "output_type": "display_data"
    },
    {
     "name": "stdout",
     "output_type": "stream",
     "text": [
      "Epoch 7 val metrics: - Log-Loss: 0.141742 - Hamming-Loss: 0.008039 - Subset-Accuracy: 0.958841\n"
     ]
    },
    {
     "data": {
      "application/vnd.jupyter.widget-view+json": {
       "model_id": "28a245fe95eb42478e246b2364ac8793",
       "version_major": 2,
       "version_minor": 0
      },
      "text/plain": [
       "HBox(children=(IntProgress(value=1, bar_style='info', description='training', max=1, style=ProgressStyle(descr…"
      ]
     },
     "metadata": {},
     "output_type": "display_data"
    },
    {
     "data": {
      "application/vnd.jupyter.widget-view+json": {
       "model_id": "ab5eb7c584da465b8f7c4c10fd64cf15",
       "version_major": 2,
       "version_minor": 0
      },
      "text/plain": [
       "HBox(children=(IntProgress(value=0, description='predicting', max=514, style=ProgressStyle(description_width='…"
      ]
     },
     "metadata": {},
     "output_type": "display_data"
    },
    {
     "name": "stdout",
     "output_type": "stream",
     "text": [
      "Epoch 8 val metrics: - Log-Loss: 0.137761 - Hamming-Loss: 0.007891 - Subset-Accuracy: 0.959345\n"
     ]
    },
    {
     "data": {
      "application/vnd.jupyter.widget-view+json": {
       "model_id": "879833b1b85545b3ae1d7137fce3beef",
       "version_major": 2,
       "version_minor": 0
      },
      "text/plain": [
       "HBox(children=(IntProgress(value=1, bar_style='info', description='training', max=1, style=ProgressStyle(descr…"
      ]
     },
     "metadata": {},
     "output_type": "display_data"
    },
    {
     "data": {
      "application/vnd.jupyter.widget-view+json": {
       "model_id": "6454aad561144d16a28ba7f74233a26f",
       "version_major": 2,
       "version_minor": 0
      },
      "text/plain": [
       "HBox(children=(IntProgress(value=0, description='predicting', max=514, style=ProgressStyle(description_width='…"
      ]
     },
     "metadata": {},
     "output_type": "display_data"
    },
    {
     "name": "stdout",
     "output_type": "stream",
     "text": [
      "Epoch 9 val metrics: - Log-Loss: 0.135815 - Hamming-Loss: 0.007833 - Subset-Accuracy: 0.959215\n"
     ]
    }
   ],
   "source": [
    "from tqdm import tnrange, tqdm_notebook\n",
    "epochs = 10\n",
    "for epoch in tnrange(epochs):\n",
    "    for x, y in tqdm_notebook(zip(X_train_seq, Y_cat_train), desc='training'):\n",
    "        ly = len(y)\n",
    "        x = np.array(x).reshape((1,-1))\n",
    "        y = np.array(y).reshape((1,ly,-1))\n",
    "        #if x.shape[1] != y.shape[1]:\n",
    "        #    print(x.shape,y.shape)\n",
    "        cat_model.train_on_batch(x, y)\n",
    "    Y_cat_pred = []\n",
    "    for x in tqdm_notebook(X_test_seq, desc='predicting'):\n",
    "        x = np.array(x).reshape((1,-1))\n",
    "        #if x.shape[1] != y.shape[1]:\n",
    "        #    print(x.shape,y.shape)\n",
    "        y_pred = np.squeeze(cat_model.predict_on_batch(x))\n",
    "        Y_cat_pred.append(y_pred)\n",
    "    Y_cat_pred = np.concatenate(Y_cat_pred)\n",
    "    Y_cat_pred_ham = Y_cat_pred > 0.5\n",
    "    Y_cat_val = np.concatenate(Y_cat_test)\n",
    "    #print(y_val.sum(), y_pred.sum())\n",
    "    #roc = roc_auc_score(Y_val, Y_pred)\n",
    "    loss = log_loss(Y_cat_val, Y_cat_pred)\n",
    "    ham = hamming_loss(Y_cat_val, Y_cat_pred_ham)\n",
    "    sub = accuracy_score(Y_cat_val, Y_cat_pred_ham)\n",
    "    f1 = f1_score(Y_val, Y_pred_ham, average='micro')\n",
    "    print(\"Epoch %d val metrics: - Log-Loss: %.6f - Hamming-Loss: %.6f - Subset-Accuracy: %.6f - F1_Score: %.6f\" % (epoch, loss, ham, sub, f1))"
   ]
  }
 ],
 "metadata": {
  "kernelspec": {
   "display_name": "Python 3",
   "language": "python",
   "name": "python3"
  },
  "language_info": {
   "codemirror_mode": {
    "name": "ipython",
    "version": 3
   },
   "file_extension": ".py",
   "mimetype": "text/x-python",
   "name": "python",
   "nbconvert_exporter": "python",
   "pygments_lexer": "ipython3",
   "version": "3.6.7"
  }
 },
 "nbformat": 4,
 "nbformat_minor": 2
}
